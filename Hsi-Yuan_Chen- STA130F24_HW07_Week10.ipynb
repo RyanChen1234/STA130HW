{
 "cells": [
  {
   "cell_type": "markdown",
   "id": "04c94be2",
   "metadata": {},
   "source": [
    "# Question 1\n",
    "[Chatlog](https://chatgpt.com/share/67379c70-f670-8001-8143-e38c8a117598)\n",
    "\n",
    "Part a)\n",
    "- A simple linear regression is a statistical method used to model the relationship between a single predictor variable (X) and a single outcome variable (Y). \n",
    "- Predictor variable = Independent variable , Outcome Variable = Dependent Variable\n",
    "- Equation:𝑌=𝛽0+𝛽1𝑋+𝜖Y=β0​+β1​X+ϵ\n",
    "- 𝛽0 is the intercept, 𝛽1 is the slope of predictor variable, ϵ is the error term. \n",
    "- Mulitple linear regression: A statistical method that models the relationship between mulitple predictor variables and a single outcome variable (Y). \n",
    "- Equation: 𝑌=𝛽0+𝛽1𝑋1+𝛽2𝑋2+⋯+𝛽𝑘𝑋𝑘+𝜖Y=β0​+β1​X1​+β2​X2​+⋯+βk​Xk​+ϵ\n",
    "\n",
    "Differences: \n",
    "- Number of predictor variable (one vs two or more)\n",
    "- Complexity: Simple linear model are more simple and easier to interpret and visualize vs multiple linear regression which are more complex and are more diffcult to interact with. \n",
    "\n",
    "Benefits of Mulitple Linear Regression:\n",
    "- Accounts for more predictors: This allows us to model mutiple factors that might influence the outcome. \n",
    "- Reduces ommited variable bias: Including additional variables reduces the bias caused by omitting important predictors. \n",
    "- Improves Model Fit: Explains more variability in the outcome variable (Y). Often leads to a higher R^2, indicating better explanatory power. \n",
    "\n",
    "Part b) \n",
    "\n",
    "1. Continuous variable can take any numeric value within a range (e.g. age, height, income). The linear regression treats the continuous variable as a numeric input where changes in the variable are directly proportionaly to changes in outcome. This can be explained by the slope, which changes in one unit of the continous variable will change the outcome. \n",
    "- Equation: Y=β0​+β1​X+ϵ\n",
    "\n",
    "2. An indicator variable is a binary variable that takes two values (0,1), repreenting two categories. The indicator variable changes the intercept of the regression line, effecting modeling a different baseline outcome for the two groups. The coefficient(β1) associated with the indicator variable repsents the difference in outcome between the two categories. \n",
    "- Equation: Y=β0​+β1​I(X)+ϵ\n",
    "\n",
    "Part c)\n",
    "- When an indicator variable is added, the model now accounts for difference between groups defined by the indicator variable while still modeling the continuous predictor's variable's relationship with outcome. To elaborate, without the indicator variable, the model assumes everyone starts at the same point and moves at the same rate. \n",
    "- Adding the indicator variable changes the behavior by recognizing the difference between the groups, while keeping the function of the continuous variable. Whcih explains how the outcome changes, it just now adjusts for group differences. \n",
    "\n",
    "Part d)\n",
    "- When you add an interaction term between a continuous variable in a mulitple linear regression model, you allow the relationship(slope) between the continuous variableX) and the outcome variable(Y) to differ for each group. \n",
    "- Linear Form The linear form with an interaction term looks like this: 𝑌 = 𝛽 0 + 𝛽 1 𝑋 + 𝛽 2 𝐼 ( 𝑍 ) + 𝛽 3 ( 𝑋 ⋅ 𝐼 ( 𝑍 ) ) + 𝜖 Y=β 0 ​ +β 1 ​ X+β 2 ​ I(Z)+β 3 ​ (X⋅I(Z))+ϵ \n",
    "- Where: 𝑋 X: The continuous variable. 𝐼 ( 𝑍 ) I(Z): The indicator variable ( 𝐼 ( 𝑍 ) = 1 I(Z)=1 for one group, 𝐼 ( 𝑍 ) = 0 I(Z)=0 for the reference group).\n",
    "- 𝑋 ⋅ 𝐼 ( 𝑍 ) X⋅I(Z): The interaction term. 𝛽 3 β 3 ​ : The coefficient of the interaction term, which measures the difference in slopes between the two groups. \n",
    "- How It Works Baseline Group ( 𝐼 ( 𝑍 ) = 0 I(Z)=0): For the reference group ( 𝐼 ( 𝑍 ) = 0 I(Z)=0): 𝑌 = 𝛽 0 + 𝛽 1 𝑋 Y=β 0 ​ +β 1 ​ X The slope for 𝑋 X is 𝛽 1 β 1 ​ , and the intercept is 𝛽 0 β 0 ​ .\n",
    "- Other Group ( 𝐼 ( 𝑍 ) = 1 I(Z)=1): For the other group ( 𝐼 ( 𝑍 ) = 1 I(Z)=1): 𝑌 = 𝛽 0 + 𝛽 2 + ( 𝛽 1 + 𝛽 3 ) 𝑋 Y=β 0 ​ +β 2 ​ +(β 1 ​ +β 3 ​ )X The slope for 𝑋 X is 𝛽 1 + 𝛽 3 β 1 ​ +β 3 ​ , and the intercept is 𝛽 0 + 𝛽 2 β 0 ​ +β 2 ​ . \n",
    "- Effect of the Interaction Term ( 𝛽 3 β 3 ​ ): The interaction term allows the slope of 𝑋 X to vary between the two groups: For the reference group: Slope = 𝛽 1 β 1 ​ . For the other group: Slope = 𝛽 1 + 𝛽 3 β 1 ​ +β 3 ​ .\n",
    "\n",
    "Part e)\n",
    "- When using a non-binary categorical variable as a predictor in a multiple linear regression model, the model is transformed into binary variables through a process called dummy encoding. \n",
    "- Examples of non-binary categorical variable: education level (high school, college). \n",
    "- A non-binary categorical variable with k categories is encoded into k-1 binary variables. One category is chosen as the reference category, and other categories are comapred to it. \n",
    "\n",
    "Linear form: \n",
    "- Y=β0​+β1​I(Z1)+β2​I(Z2)+⋯+β k−1​I(Z k−1)+ϵ 𝐼(𝑍𝑖): Indicator variable for category 𝑍𝑖​\n",
    "- (1 if the observation is in category 𝑍𝑖​, 0 otherwise). \n",
    "- 𝛽0​ : The intercept, representing the baseline outcome for the reference category. 𝛽𝑖 ​ : The effect of category 𝑍𝑖​ relative to the reference category.\n",
    "\n",
    "Behavior:\n",
    "- The model adjusts the predicted outcome Y for each category of the categorical value by adding or subtracting the corresponding β coefficent. \n",
    "- The expected outcome for reference category is β0. \n",
    "- For other categories, the expected outcome is Y=βo+βi. \n",
    "\n"
   ]
  },
  {
   "cell_type": "markdown",
   "id": "5f5da863",
   "metadata": {},
   "source": [
    "# Question 2\n",
    "[Chatlog](\"https://chatgpt.com/share/674947d7-5414-8001-bc8c-eda9d68f9755)\n",
    "- Outcome (dependent) variable is the sales or revenue from sports equipments. This is continuous. \n",
    "- Predictor (independent) variables are X1 (Budget for TV adverts) and X2 Budget for online advertising. \n",
    "- These interactions should be accounted for as the effect of TV advertising (X1) is likely influenced by online advertising (X2) a the mediums may complement or compete with each other. This suggests a potential synergy or interaction. These interactions should be accounted for to improve model accuracy and interpretability. \n",
    "- No interaction: Y=β 0 ​ +β 1 ​ X 1 ​ +β 2 ​ X 2 ​ +ϵ \n",
    "- With Interaction: The effect of one predictor varies based on the other, requiring an interaction term: 𝑌 = 𝛽 0 + 𝛽 1 𝑋 1 + 𝛽 2 𝑋 2 + 𝛽 3 ( 𝑋 1 ⋅ 𝑋 2 ) + 𝜖 \n",
    "\n",
    "2-1 \n",
    "- No interaction: Y=β 0 ​ +β 1 ​ X 1 ​ +β 2 ​ X 2 ​ +ϵ \n",
    "- To predict Y, subsitute the values of X1 (TV advertising budget) and X2 (online advertising budget) into the formula along the estimated coefficients (β0, β1, β2).\n",
    "- The contributions of X1 and X2 to Y are independent and additive.\n",
    "- With Interaction: 𝑌 = 𝛽 0 + 𝛽 1 𝑋 1 + 𝛽 2 𝑋 2 + 𝛽 3 ( 𝑋 1 ⋅ 𝑋 2 ) + 𝜖 \n",
    "- To predict Y, subitute X1 and X2 and their interaction term (X1, X2) into the formula along with the estimated coefficients. \n",
    "- The effect of X1 on Y depends on the value of X2, and vice versa. \n",
    "\n",
    "Without Interaction (Additive Model): Predictions assume the effects of 𝑋1and X2are independent. The impact of 𝑋 1 on Y remains constant regardless of the level of 𝑋2, and vice versa. Simpler but less realistic if there’s synergy or dependency between 𝑋1 and 𝑋2 . \n",
    "\n",
    "With Interaction (Interactive Model): Predictions account for synergy or dependency between 𝑋1 and 𝑋2. The effect of 𝑋1 ​ on Y changes depending on the value of 𝑋2 ​ , and vice versa. This model better reflects real-world dynamics where the combined effect of predictors may be greater or smaller than the sum of their individual effects.\n",
    "\n",
    "2-2 \n",
    "\n",
    "When advertisement budgets are categorized as binary variables (high = 1, low = 0), the prediction formulas are adjusted to reflect these discrete categories. For a model without interaction, the formula is 𝑌 = 𝛽 0 + 𝛽 1 𝑋 1 + 𝛽 2 𝑋 2 + 𝜖 Y=β 0 ​ +β 1 ​ X 1 ​ +β 2 ​ X 2 ​ +ϵ, where 𝑋 1  ​ represents the TV advertising budget and 𝑋 2 X 2 ​ represents the online advertising budget. Here, 𝛽 0 β 0 ​ is the baseline outcome when both budgets are low, 𝛽 1 β 1 ​ is the change in the outcome when the TV budget is high (holding online constant), and 𝛽 2 β 2 ​ is the change when the online budget is high (holding TV constant).\n",
    "\n",
    "This model assumes the effects are independent and additive, with no interaction between the predictors. In contrast, a model with interaction includes an additional term: 𝑌 = 𝛽 0 + 𝛽 1 𝑋 1 + 𝛽 2 𝑋 2 + 𝛽 3 ( 𝑋 1 ⋅ 𝑋 2 ) + 𝜖 Y=β 0 ​ +β 1 ​ X 1 ​ +β 2 ​ X 2 ​ +β 3 ​ (X 1 ​ ⋅X 2 ​ )+ϵ. The interaction term 𝑋 1 ⋅ 𝑋 2 X 1 ​ ⋅X 2 ​ captures the combined effect of high budgets for both TV and online advertising, represented by 𝛽 3 β 3 ​ . This allows the model to account for scenarios where the effectiveness of one advertising medium depends on the other. For example, if both budgets are high ( 𝑋 1 = 1 , 𝑋 2 = 1 X 1 ​ =1,X 2 ​ =1), the interaction model predicts 𝑌 = 𝛽 0 + 𝛽 1 + 𝛽 2 + 𝛽 3 Y=β 0 ​ +β 1 ​ +β 2 ​ +β 3 ​ , reflecting a synergistic or dependent relationship. \n",
    "\n",
    "Without the interaction term, the prediction would simply be 𝑌 = 𝛽 0 + 𝛽 1 + 𝛽 2 Y=β 0 ​ +β 1 ​ +β 2 ​ , assuming independent effects. Including the interaction term provides more nuanced predictions by acknowledging that the combined effect of high budgets may amplify or diminish the outcome beyond the sum of individual contributions.\n",
    "\n",
    "---\n",
    "\n",
    "\n"
   ]
  },
  {
   "cell_type": "markdown",
   "id": "59a6fda5",
   "metadata": {},
   "source": [
    "# Question 3 "
   ]
  },
  {
   "cell_type": "code",
   "execution_count": 3,
   "id": "0ef6b842",
   "metadata": {},
   "outputs": [
    {
     "name": "stdout",
     "output_type": "stream",
     "text": [
      "Optimization terminated successfully.\n",
      "         Current function value: 0.226069\n",
      "         Iterations 9\n",
      "Optimization terminated successfully.\n",
      "         Current function value: 0.191057\n",
      "         Iterations 12\n",
      "Additive Model Summary:\n",
      "                           Logit Regression Results                           \n",
      "==============================================================================\n",
      "Dep. Variable:         outcome_binary   No. Observations:                  100\n",
      "Model:                          Logit   Df Residuals:                       97\n",
      "Method:                           MLE   Df Model:                            2\n",
      "Date:                Fri, 29 Nov 2024   Pseudo R-squ.:                  0.6739\n",
      "Time:                        05:15:39   Log-Likelihood:                -22.607\n",
      "converged:                       True   LL-Null:                       -69.315\n",
      "Covariance Type:            nonrobust   LLR p-value:                 5.189e-21\n",
      "========================================================================================\n",
      "                           coef    std err          z      P>|z|      [0.025      0.975]\n",
      "----------------------------------------------------------------------------------------\n",
      "Intercept              -10.4562      2.509     -4.168      0.000     -15.373      -5.539\n",
      "predictor_continuous     1.3976      0.342      4.092      0.000       0.728       2.067\n",
      "predictor_binary         6.4152      1.625      3.947      0.000       3.230       9.600\n",
      "========================================================================================\n",
      "\n",
      "Possibly complete quasi-separation: A fraction 0.12 of observations can be\n",
      "perfectly predicted. This might indicate that there is complete\n",
      "quasi-separation. In this case some parameters will not be identified.\n",
      "\n",
      "Interaction Model Summary:\n",
      "                           Logit Regression Results                           \n",
      "==============================================================================\n",
      "Dep. Variable:         outcome_binary   No. Observations:                  100\n",
      "Model:                          Logit   Df Residuals:                       96\n",
      "Method:                           MLE   Df Model:                            3\n",
      "Date:                Fri, 29 Nov 2024   Pseudo R-squ.:                  0.7244\n",
      "Time:                        05:15:39   Log-Likelihood:                -19.106\n",
      "converged:                       True   LL-Null:                       -69.315\n",
      "Covariance Type:            nonrobust   LLR p-value:                 1.264e-21\n",
      "=========================================================================================================\n",
      "                                            coef    std err          z      P>|z|      [0.025      0.975]\n",
      "---------------------------------------------------------------------------------------------------------\n",
      "Intercept                               -37.0872     23.721     -1.564      0.118     -83.579       9.404\n",
      "predictor_continuous                      5.0395      3.207      1.572      0.116      -1.245      11.324\n",
      "predictor_binary                         34.3266     23.743      1.446      0.148     -12.208      80.861\n",
      "predictor_continuous:predictor_binary    -4.0662      3.220     -1.263      0.207     -10.378       2.246\n",
      "=========================================================================================================\n",
      "\n",
      "Possibly complete quasi-separation: A fraction 0.27 of observations can be\n",
      "perfectly predicted. This might indicate that there is complete\n",
      "quasi-separation. In this case some parameters will not be identified.\n"
     ]
    },
    {
     "data": {
      "application/vnd.plotly.v1+json": {
       "config": {
        "plotlyServerURL": "https://plot.ly"
       },
       "data": [
        {
         "hovertemplate": "color=0<br>x=%{x}<br>y=%{y}<extra></extra>",
         "legendgroup": "0",
         "marker": {
          "color": "#636efa",
          "symbol": "circle"
         },
         "mode": "markers",
         "name": "0",
         "orientation": "v",
         "showlegend": true,
         "type": "scatter",
         "x": [
          0,
          0.20202020202020202,
          0.30303030303030304,
          0.40404040404040403,
          0.6060606060606061,
          0.7070707070707071,
          0.8080808080808081,
          1.0101010101010102,
          1.1111111111111112,
          1.2121212121212122,
          1.3131313131313131,
          1.5151515151515151,
          1.9191919191919191,
          2.121212121212121,
          3.0303030303030303,
          3.131313131313131,
          3.5353535353535355,
          3.7373737373737375,
          3.8383838383838382,
          3.9393939393939394,
          4.040404040404041,
          4.141414141414141,
          4.747474747474747,
          5.05050505050505,
          5.252525252525253,
          5.454545454545454,
          5.757575757575758,
          5.858585858585858,
          5.959595959595959,
          6.0606060606060606,
          6.161616161616162,
          6.262626262626262,
          6.363636363636363,
          6.4646464646464645,
          6.767676767676767,
          7.2727272727272725,
          7.474747474747475,
          7.878787878787879,
          8.080808080808081,
          8.282828282828282,
          8.484848484848484,
          8.585858585858587,
          8.787878787878787,
          10
         ],
         "xaxis": "x",
         "y": [
          0,
          0,
          0,
          0,
          0,
          0,
          0,
          0,
          0,
          0,
          0,
          0,
          0,
          0,
          0,
          0,
          0,
          0,
          0,
          0,
          0,
          0,
          0,
          0,
          0,
          0,
          0,
          0,
          0,
          0,
          0,
          0,
          0,
          0,
          0,
          1,
          0,
          1,
          1,
          1,
          1,
          1,
          1,
          1
         ],
         "yaxis": "y"
        },
        {
         "hovertemplate": "color=1<br>x=%{x}<br>y=%{y}<extra></extra>",
         "legendgroup": "1",
         "marker": {
          "color": "#EF553B",
          "symbol": "circle"
         },
         "mode": "markers",
         "name": "1",
         "orientation": "v",
         "showlegend": true,
         "type": "scatter",
         "x": [
          0.10101010101010101,
          0.5050505050505051,
          0.9090909090909091,
          1.4141414141414141,
          1.6161616161616161,
          1.7171717171717171,
          1.8181818181818181,
          2.0202020202020203,
          2.2222222222222223,
          2.323232323232323,
          2.4242424242424243,
          2.525252525252525,
          2.6262626262626263,
          2.727272727272727,
          2.8282828282828283,
          2.929292929292929,
          3.2323232323232323,
          3.3333333333333335,
          3.4343434343434343,
          3.6363636363636362,
          4.242424242424242,
          4.343434343434343,
          4.444444444444445,
          4.545454545454545,
          4.646464646464646,
          4.848484848484849,
          4.94949494949495,
          5.151515151515151,
          5.353535353535354,
          5.555555555555555,
          5.656565656565657,
          6.565656565656566,
          6.666666666666667,
          6.8686868686868685,
          6.96969696969697,
          7.070707070707071,
          7.171717171717171,
          7.373737373737374,
          7.575757575757575,
          7.6767676767676765,
          7.777777777777778,
          7.979797979797979,
          8.181818181818182,
          8.383838383838384,
          8.686868686868687,
          8.88888888888889,
          8.98989898989899,
          9.09090909090909,
          9.191919191919192,
          9.292929292929292,
          9.393939393939394,
          9.494949494949495,
          9.595959595959595,
          9.696969696969697,
          9.797979797979798,
          9.8989898989899
         ],
         "xaxis": "x",
         "y": [
          0,
          0,
          0,
          1,
          0,
          0,
          0,
          0,
          0,
          0,
          1,
          1,
          0,
          1,
          1,
          0,
          1,
          1,
          0,
          1,
          1,
          1,
          0,
          1,
          1,
          1,
          1,
          1,
          1,
          0,
          1,
          1,
          1,
          1,
          1,
          1,
          1,
          1,
          1,
          1,
          1,
          1,
          1,
          1,
          1,
          1,
          1,
          1,
          1,
          1,
          1,
          1,
          1,
          1,
          1,
          1
         ],
         "yaxis": "y"
        }
       ],
       "layout": {
        "legend": {
         "title": {
          "text": "color"
         },
         "tracegroupgap": 0
        },
        "template": {
         "data": {
          "bar": [
           {
            "error_x": {
             "color": "#2a3f5f"
            },
            "error_y": {
             "color": "#2a3f5f"
            },
            "marker": {
             "line": {
              "color": "#E5ECF6",
              "width": 0.5
             },
             "pattern": {
              "fillmode": "overlay",
              "size": 10,
              "solidity": 0.2
             }
            },
            "type": "bar"
           }
          ],
          "barpolar": [
           {
            "marker": {
             "line": {
              "color": "#E5ECF6",
              "width": 0.5
             },
             "pattern": {
              "fillmode": "overlay",
              "size": 10,
              "solidity": 0.2
             }
            },
            "type": "barpolar"
           }
          ],
          "carpet": [
           {
            "aaxis": {
             "endlinecolor": "#2a3f5f",
             "gridcolor": "white",
             "linecolor": "white",
             "minorgridcolor": "white",
             "startlinecolor": "#2a3f5f"
            },
            "baxis": {
             "endlinecolor": "#2a3f5f",
             "gridcolor": "white",
             "linecolor": "white",
             "minorgridcolor": "white",
             "startlinecolor": "#2a3f5f"
            },
            "type": "carpet"
           }
          ],
          "choropleth": [
           {
            "colorbar": {
             "outlinewidth": 0,
             "ticks": ""
            },
            "type": "choropleth"
           }
          ],
          "contour": [
           {
            "colorbar": {
             "outlinewidth": 0,
             "ticks": ""
            },
            "colorscale": [
             [
              0,
              "#0d0887"
             ],
             [
              0.1111111111111111,
              "#46039f"
             ],
             [
              0.2222222222222222,
              "#7201a8"
             ],
             [
              0.3333333333333333,
              "#9c179e"
             ],
             [
              0.4444444444444444,
              "#bd3786"
             ],
             [
              0.5555555555555556,
              "#d8576b"
             ],
             [
              0.6666666666666666,
              "#ed7953"
             ],
             [
              0.7777777777777778,
              "#fb9f3a"
             ],
             [
              0.8888888888888888,
              "#fdca26"
             ],
             [
              1,
              "#f0f921"
             ]
            ],
            "type": "contour"
           }
          ],
          "contourcarpet": [
           {
            "colorbar": {
             "outlinewidth": 0,
             "ticks": ""
            },
            "type": "contourcarpet"
           }
          ],
          "heatmap": [
           {
            "colorbar": {
             "outlinewidth": 0,
             "ticks": ""
            },
            "colorscale": [
             [
              0,
              "#0d0887"
             ],
             [
              0.1111111111111111,
              "#46039f"
             ],
             [
              0.2222222222222222,
              "#7201a8"
             ],
             [
              0.3333333333333333,
              "#9c179e"
             ],
             [
              0.4444444444444444,
              "#bd3786"
             ],
             [
              0.5555555555555556,
              "#d8576b"
             ],
             [
              0.6666666666666666,
              "#ed7953"
             ],
             [
              0.7777777777777778,
              "#fb9f3a"
             ],
             [
              0.8888888888888888,
              "#fdca26"
             ],
             [
              1,
              "#f0f921"
             ]
            ],
            "type": "heatmap"
           }
          ],
          "heatmapgl": [
           {
            "colorbar": {
             "outlinewidth": 0,
             "ticks": ""
            },
            "colorscale": [
             [
              0,
              "#0d0887"
             ],
             [
              0.1111111111111111,
              "#46039f"
             ],
             [
              0.2222222222222222,
              "#7201a8"
             ],
             [
              0.3333333333333333,
              "#9c179e"
             ],
             [
              0.4444444444444444,
              "#bd3786"
             ],
             [
              0.5555555555555556,
              "#d8576b"
             ],
             [
              0.6666666666666666,
              "#ed7953"
             ],
             [
              0.7777777777777778,
              "#fb9f3a"
             ],
             [
              0.8888888888888888,
              "#fdca26"
             ],
             [
              1,
              "#f0f921"
             ]
            ],
            "type": "heatmapgl"
           }
          ],
          "histogram": [
           {
            "marker": {
             "pattern": {
              "fillmode": "overlay",
              "size": 10,
              "solidity": 0.2
             }
            },
            "type": "histogram"
           }
          ],
          "histogram2d": [
           {
            "colorbar": {
             "outlinewidth": 0,
             "ticks": ""
            },
            "colorscale": [
             [
              0,
              "#0d0887"
             ],
             [
              0.1111111111111111,
              "#46039f"
             ],
             [
              0.2222222222222222,
              "#7201a8"
             ],
             [
              0.3333333333333333,
              "#9c179e"
             ],
             [
              0.4444444444444444,
              "#bd3786"
             ],
             [
              0.5555555555555556,
              "#d8576b"
             ],
             [
              0.6666666666666666,
              "#ed7953"
             ],
             [
              0.7777777777777778,
              "#fb9f3a"
             ],
             [
              0.8888888888888888,
              "#fdca26"
             ],
             [
              1,
              "#f0f921"
             ]
            ],
            "type": "histogram2d"
           }
          ],
          "histogram2dcontour": [
           {
            "colorbar": {
             "outlinewidth": 0,
             "ticks": ""
            },
            "colorscale": [
             [
              0,
              "#0d0887"
             ],
             [
              0.1111111111111111,
              "#46039f"
             ],
             [
              0.2222222222222222,
              "#7201a8"
             ],
             [
              0.3333333333333333,
              "#9c179e"
             ],
             [
              0.4444444444444444,
              "#bd3786"
             ],
             [
              0.5555555555555556,
              "#d8576b"
             ],
             [
              0.6666666666666666,
              "#ed7953"
             ],
             [
              0.7777777777777778,
              "#fb9f3a"
             ],
             [
              0.8888888888888888,
              "#fdca26"
             ],
             [
              1,
              "#f0f921"
             ]
            ],
            "type": "histogram2dcontour"
           }
          ],
          "mesh3d": [
           {
            "colorbar": {
             "outlinewidth": 0,
             "ticks": ""
            },
            "type": "mesh3d"
           }
          ],
          "parcoords": [
           {
            "line": {
             "colorbar": {
              "outlinewidth": 0,
              "ticks": ""
             }
            },
            "type": "parcoords"
           }
          ],
          "pie": [
           {
            "automargin": true,
            "type": "pie"
           }
          ],
          "scatter": [
           {
            "fillpattern": {
             "fillmode": "overlay",
             "size": 10,
             "solidity": 0.2
            },
            "type": "scatter"
           }
          ],
          "scatter3d": [
           {
            "line": {
             "colorbar": {
              "outlinewidth": 0,
              "ticks": ""
             }
            },
            "marker": {
             "colorbar": {
              "outlinewidth": 0,
              "ticks": ""
             }
            },
            "type": "scatter3d"
           }
          ],
          "scattercarpet": [
           {
            "marker": {
             "colorbar": {
              "outlinewidth": 0,
              "ticks": ""
             }
            },
            "type": "scattercarpet"
           }
          ],
          "scattergeo": [
           {
            "marker": {
             "colorbar": {
              "outlinewidth": 0,
              "ticks": ""
             }
            },
            "type": "scattergeo"
           }
          ],
          "scattergl": [
           {
            "marker": {
             "colorbar": {
              "outlinewidth": 0,
              "ticks": ""
             }
            },
            "type": "scattergl"
           }
          ],
          "scattermapbox": [
           {
            "marker": {
             "colorbar": {
              "outlinewidth": 0,
              "ticks": ""
             }
            },
            "type": "scattermapbox"
           }
          ],
          "scatterpolar": [
           {
            "marker": {
             "colorbar": {
              "outlinewidth": 0,
              "ticks": ""
             }
            },
            "type": "scatterpolar"
           }
          ],
          "scatterpolargl": [
           {
            "marker": {
             "colorbar": {
              "outlinewidth": 0,
              "ticks": ""
             }
            },
            "type": "scatterpolargl"
           }
          ],
          "scatterternary": [
           {
            "marker": {
             "colorbar": {
              "outlinewidth": 0,
              "ticks": ""
             }
            },
            "type": "scatterternary"
           }
          ],
          "surface": [
           {
            "colorbar": {
             "outlinewidth": 0,
             "ticks": ""
            },
            "colorscale": [
             [
              0,
              "#0d0887"
             ],
             [
              0.1111111111111111,
              "#46039f"
             ],
             [
              0.2222222222222222,
              "#7201a8"
             ],
             [
              0.3333333333333333,
              "#9c179e"
             ],
             [
              0.4444444444444444,
              "#bd3786"
             ],
             [
              0.5555555555555556,
              "#d8576b"
             ],
             [
              0.6666666666666666,
              "#ed7953"
             ],
             [
              0.7777777777777778,
              "#fb9f3a"
             ],
             [
              0.8888888888888888,
              "#fdca26"
             ],
             [
              1,
              "#f0f921"
             ]
            ],
            "type": "surface"
           }
          ],
          "table": [
           {
            "cells": {
             "fill": {
              "color": "#EBF0F8"
             },
             "line": {
              "color": "white"
             }
            },
            "header": {
             "fill": {
              "color": "#C8D4E3"
             },
             "line": {
              "color": "white"
             }
            },
            "type": "table"
           }
          ]
         },
         "layout": {
          "annotationdefaults": {
           "arrowcolor": "#2a3f5f",
           "arrowhead": 0,
           "arrowwidth": 1
          },
          "autotypenumbers": "strict",
          "coloraxis": {
           "colorbar": {
            "outlinewidth": 0,
            "ticks": ""
           }
          },
          "colorscale": {
           "diverging": [
            [
             0,
             "#8e0152"
            ],
            [
             0.1,
             "#c51b7d"
            ],
            [
             0.2,
             "#de77ae"
            ],
            [
             0.3,
             "#f1b6da"
            ],
            [
             0.4,
             "#fde0ef"
            ],
            [
             0.5,
             "#f7f7f7"
            ],
            [
             0.6,
             "#e6f5d0"
            ],
            [
             0.7,
             "#b8e186"
            ],
            [
             0.8,
             "#7fbc41"
            ],
            [
             0.9,
             "#4d9221"
            ],
            [
             1,
             "#276419"
            ]
           ],
           "sequential": [
            [
             0,
             "#0d0887"
            ],
            [
             0.1111111111111111,
             "#46039f"
            ],
            [
             0.2222222222222222,
             "#7201a8"
            ],
            [
             0.3333333333333333,
             "#9c179e"
            ],
            [
             0.4444444444444444,
             "#bd3786"
            ],
            [
             0.5555555555555556,
             "#d8576b"
            ],
            [
             0.6666666666666666,
             "#ed7953"
            ],
            [
             0.7777777777777778,
             "#fb9f3a"
            ],
            [
             0.8888888888888888,
             "#fdca26"
            ],
            [
             1,
             "#f0f921"
            ]
           ],
           "sequentialminus": [
            [
             0,
             "#0d0887"
            ],
            [
             0.1111111111111111,
             "#46039f"
            ],
            [
             0.2222222222222222,
             "#7201a8"
            ],
            [
             0.3333333333333333,
             "#9c179e"
            ],
            [
             0.4444444444444444,
             "#bd3786"
            ],
            [
             0.5555555555555556,
             "#d8576b"
            ],
            [
             0.6666666666666666,
             "#ed7953"
            ],
            [
             0.7777777777777778,
             "#fb9f3a"
            ],
            [
             0.8888888888888888,
             "#fdca26"
            ],
            [
             1,
             "#f0f921"
            ]
           ]
          },
          "colorway": [
           "#636efa",
           "#EF553B",
           "#00cc96",
           "#ab63fa",
           "#FFA15A",
           "#19d3f3",
           "#FF6692",
           "#B6E880",
           "#FF97FF",
           "#FECB52"
          ],
          "font": {
           "color": "#2a3f5f"
          },
          "geo": {
           "bgcolor": "white",
           "lakecolor": "white",
           "landcolor": "#E5ECF6",
           "showlakes": true,
           "showland": true,
           "subunitcolor": "white"
          },
          "hoverlabel": {
           "align": "left"
          },
          "hovermode": "closest",
          "mapbox": {
           "style": "light"
          },
          "paper_bgcolor": "white",
          "plot_bgcolor": "#E5ECF6",
          "polar": {
           "angularaxis": {
            "gridcolor": "white",
            "linecolor": "white",
            "ticks": ""
           },
           "bgcolor": "#E5ECF6",
           "radialaxis": {
            "gridcolor": "white",
            "linecolor": "white",
            "ticks": ""
           }
          },
          "scene": {
           "xaxis": {
            "backgroundcolor": "#E5ECF6",
            "gridcolor": "white",
            "gridwidth": 2,
            "linecolor": "white",
            "showbackground": true,
            "ticks": "",
            "zerolinecolor": "white"
           },
           "yaxis": {
            "backgroundcolor": "#E5ECF6",
            "gridcolor": "white",
            "gridwidth": 2,
            "linecolor": "white",
            "showbackground": true,
            "ticks": "",
            "zerolinecolor": "white"
           },
           "zaxis": {
            "backgroundcolor": "#E5ECF6",
            "gridcolor": "white",
            "gridwidth": 2,
            "linecolor": "white",
            "showbackground": true,
            "ticks": "",
            "zerolinecolor": "white"
           }
          },
          "shapedefaults": {
           "line": {
            "color": "#2a3f5f"
           }
          },
          "ternary": {
           "aaxis": {
            "gridcolor": "white",
            "linecolor": "white",
            "ticks": ""
           },
           "baxis": {
            "gridcolor": "white",
            "linecolor": "white",
            "ticks": ""
           },
           "bgcolor": "#E5ECF6",
           "caxis": {
            "gridcolor": "white",
            "linecolor": "white",
            "ticks": ""
           }
          },
          "title": {
           "x": 0.05
          },
          "xaxis": {
           "automargin": true,
           "gridcolor": "white",
           "linecolor": "white",
           "ticks": "",
           "title": {
            "standoff": 15
           },
           "zerolinecolor": "white",
           "zerolinewidth": 2
          },
          "yaxis": {
           "automargin": true,
           "gridcolor": "white",
           "linecolor": "white",
           "ticks": "",
           "title": {
            "standoff": 15
           },
           "zerolinecolor": "white",
           "zerolinewidth": 2
          }
         }
        },
        "title": {
         "text": "Additive Model"
        },
        "xaxis": {
         "anchor": "y",
         "domain": [
          0,
          1
         ],
         "title": {
          "text": "x"
         }
        },
        "yaxis": {
         "anchor": "x",
         "domain": [
          0,
          1
         ],
         "title": {
          "text": "y"
         }
        }
       }
      },
      "text/html": [
       "<div>                            <div id=\"008e8dde-e84c-4850-bc5d-aae69ded5e24\" class=\"plotly-graph-div\" style=\"height:525px; width:100%;\"></div>            <script type=\"text/javascript\">                require([\"plotly\"], function(Plotly) {                    window.PLOTLYENV=window.PLOTLYENV || {};                                    if (document.getElementById(\"008e8dde-e84c-4850-bc5d-aae69ded5e24\")) {                    Plotly.newPlot(                        \"008e8dde-e84c-4850-bc5d-aae69ded5e24\",                        [{\"hovertemplate\":\"color=0\\u003cbr\\u003ex=%{x}\\u003cbr\\u003ey=%{y}\\u003cextra\\u003e\\u003c\\u002fextra\\u003e\",\"legendgroup\":\"0\",\"marker\":{\"color\":\"#636efa\",\"symbol\":\"circle\"},\"mode\":\"markers\",\"name\":\"0\",\"orientation\":\"v\",\"showlegend\":true,\"x\":[0.0,0.20202020202020202,0.30303030303030304,0.40404040404040403,0.6060606060606061,0.7070707070707071,0.8080808080808081,1.0101010101010102,1.1111111111111112,1.2121212121212122,1.3131313131313131,1.5151515151515151,1.9191919191919191,2.121212121212121,3.0303030303030303,3.131313131313131,3.5353535353535355,3.7373737373737375,3.8383838383838382,3.9393939393939394,4.040404040404041,4.141414141414141,4.747474747474747,5.05050505050505,5.252525252525253,5.454545454545454,5.757575757575758,5.858585858585858,5.959595959595959,6.0606060606060606,6.161616161616162,6.262626262626262,6.363636363636363,6.4646464646464645,6.767676767676767,7.2727272727272725,7.474747474747475,7.878787878787879,8.080808080808081,8.282828282828282,8.484848484848484,8.585858585858587,8.787878787878787,10.0],\"xaxis\":\"x\",\"y\":[0,0,0,0,0,0,0,0,0,0,0,0,0,0,0,0,0,0,0,0,0,0,0,0,0,0,0,0,0,0,0,0,0,0,0,1,0,1,1,1,1,1,1,1],\"yaxis\":\"y\",\"type\":\"scatter\"},{\"hovertemplate\":\"color=1\\u003cbr\\u003ex=%{x}\\u003cbr\\u003ey=%{y}\\u003cextra\\u003e\\u003c\\u002fextra\\u003e\",\"legendgroup\":\"1\",\"marker\":{\"color\":\"#EF553B\",\"symbol\":\"circle\"},\"mode\":\"markers\",\"name\":\"1\",\"orientation\":\"v\",\"showlegend\":true,\"x\":[0.10101010101010101,0.5050505050505051,0.9090909090909091,1.4141414141414141,1.6161616161616161,1.7171717171717171,1.8181818181818181,2.0202020202020203,2.2222222222222223,2.323232323232323,2.4242424242424243,2.525252525252525,2.6262626262626263,2.727272727272727,2.8282828282828283,2.929292929292929,3.2323232323232323,3.3333333333333335,3.4343434343434343,3.6363636363636362,4.242424242424242,4.343434343434343,4.444444444444445,4.545454545454545,4.646464646464646,4.848484848484849,4.94949494949495,5.151515151515151,5.353535353535354,5.555555555555555,5.656565656565657,6.565656565656566,6.666666666666667,6.8686868686868685,6.96969696969697,7.070707070707071,7.171717171717171,7.373737373737374,7.575757575757575,7.6767676767676765,7.777777777777778,7.979797979797979,8.181818181818182,8.383838383838384,8.686868686868687,8.88888888888889,8.98989898989899,9.09090909090909,9.191919191919192,9.292929292929292,9.393939393939394,9.494949494949495,9.595959595959595,9.696969696969697,9.797979797979798,9.8989898989899],\"xaxis\":\"x\",\"y\":[0,0,0,1,0,0,0,0,0,0,1,1,0,1,1,0,1,1,0,1,1,1,0,1,1,1,1,1,1,0,1,1,1,1,1,1,1,1,1,1,1,1,1,1,1,1,1,1,1,1,1,1,1,1,1,1],\"yaxis\":\"y\",\"type\":\"scatter\"}],                        {\"template\":{\"data\":{\"histogram2dcontour\":[{\"type\":\"histogram2dcontour\",\"colorbar\":{\"outlinewidth\":0,\"ticks\":\"\"},\"colorscale\":[[0.0,\"#0d0887\"],[0.1111111111111111,\"#46039f\"],[0.2222222222222222,\"#7201a8\"],[0.3333333333333333,\"#9c179e\"],[0.4444444444444444,\"#bd3786\"],[0.5555555555555556,\"#d8576b\"],[0.6666666666666666,\"#ed7953\"],[0.7777777777777778,\"#fb9f3a\"],[0.8888888888888888,\"#fdca26\"],[1.0,\"#f0f921\"]]}],\"choropleth\":[{\"type\":\"choropleth\",\"colorbar\":{\"outlinewidth\":0,\"ticks\":\"\"}}],\"histogram2d\":[{\"type\":\"histogram2d\",\"colorbar\":{\"outlinewidth\":0,\"ticks\":\"\"},\"colorscale\":[[0.0,\"#0d0887\"],[0.1111111111111111,\"#46039f\"],[0.2222222222222222,\"#7201a8\"],[0.3333333333333333,\"#9c179e\"],[0.4444444444444444,\"#bd3786\"],[0.5555555555555556,\"#d8576b\"],[0.6666666666666666,\"#ed7953\"],[0.7777777777777778,\"#fb9f3a\"],[0.8888888888888888,\"#fdca26\"],[1.0,\"#f0f921\"]]}],\"heatmap\":[{\"type\":\"heatmap\",\"colorbar\":{\"outlinewidth\":0,\"ticks\":\"\"},\"colorscale\":[[0.0,\"#0d0887\"],[0.1111111111111111,\"#46039f\"],[0.2222222222222222,\"#7201a8\"],[0.3333333333333333,\"#9c179e\"],[0.4444444444444444,\"#bd3786\"],[0.5555555555555556,\"#d8576b\"],[0.6666666666666666,\"#ed7953\"],[0.7777777777777778,\"#fb9f3a\"],[0.8888888888888888,\"#fdca26\"],[1.0,\"#f0f921\"]]}],\"heatmapgl\":[{\"type\":\"heatmapgl\",\"colorbar\":{\"outlinewidth\":0,\"ticks\":\"\"},\"colorscale\":[[0.0,\"#0d0887\"],[0.1111111111111111,\"#46039f\"],[0.2222222222222222,\"#7201a8\"],[0.3333333333333333,\"#9c179e\"],[0.4444444444444444,\"#bd3786\"],[0.5555555555555556,\"#d8576b\"],[0.6666666666666666,\"#ed7953\"],[0.7777777777777778,\"#fb9f3a\"],[0.8888888888888888,\"#fdca26\"],[1.0,\"#f0f921\"]]}],\"contourcarpet\":[{\"type\":\"contourcarpet\",\"colorbar\":{\"outlinewidth\":0,\"ticks\":\"\"}}],\"contour\":[{\"type\":\"contour\",\"colorbar\":{\"outlinewidth\":0,\"ticks\":\"\"},\"colorscale\":[[0.0,\"#0d0887\"],[0.1111111111111111,\"#46039f\"],[0.2222222222222222,\"#7201a8\"],[0.3333333333333333,\"#9c179e\"],[0.4444444444444444,\"#bd3786\"],[0.5555555555555556,\"#d8576b\"],[0.6666666666666666,\"#ed7953\"],[0.7777777777777778,\"#fb9f3a\"],[0.8888888888888888,\"#fdca26\"],[1.0,\"#f0f921\"]]}],\"surface\":[{\"type\":\"surface\",\"colorbar\":{\"outlinewidth\":0,\"ticks\":\"\"},\"colorscale\":[[0.0,\"#0d0887\"],[0.1111111111111111,\"#46039f\"],[0.2222222222222222,\"#7201a8\"],[0.3333333333333333,\"#9c179e\"],[0.4444444444444444,\"#bd3786\"],[0.5555555555555556,\"#d8576b\"],[0.6666666666666666,\"#ed7953\"],[0.7777777777777778,\"#fb9f3a\"],[0.8888888888888888,\"#fdca26\"],[1.0,\"#f0f921\"]]}],\"mesh3d\":[{\"type\":\"mesh3d\",\"colorbar\":{\"outlinewidth\":0,\"ticks\":\"\"}}],\"scatter\":[{\"fillpattern\":{\"fillmode\":\"overlay\",\"size\":10,\"solidity\":0.2},\"type\":\"scatter\"}],\"parcoords\":[{\"type\":\"parcoords\",\"line\":{\"colorbar\":{\"outlinewidth\":0,\"ticks\":\"\"}}}],\"scatterpolargl\":[{\"type\":\"scatterpolargl\",\"marker\":{\"colorbar\":{\"outlinewidth\":0,\"ticks\":\"\"}}}],\"bar\":[{\"error_x\":{\"color\":\"#2a3f5f\"},\"error_y\":{\"color\":\"#2a3f5f\"},\"marker\":{\"line\":{\"color\":\"#E5ECF6\",\"width\":0.5},\"pattern\":{\"fillmode\":\"overlay\",\"size\":10,\"solidity\":0.2}},\"type\":\"bar\"}],\"scattergeo\":[{\"type\":\"scattergeo\",\"marker\":{\"colorbar\":{\"outlinewidth\":0,\"ticks\":\"\"}}}],\"scatterpolar\":[{\"type\":\"scatterpolar\",\"marker\":{\"colorbar\":{\"outlinewidth\":0,\"ticks\":\"\"}}}],\"histogram\":[{\"marker\":{\"pattern\":{\"fillmode\":\"overlay\",\"size\":10,\"solidity\":0.2}},\"type\":\"histogram\"}],\"scattergl\":[{\"type\":\"scattergl\",\"marker\":{\"colorbar\":{\"outlinewidth\":0,\"ticks\":\"\"}}}],\"scatter3d\":[{\"type\":\"scatter3d\",\"line\":{\"colorbar\":{\"outlinewidth\":0,\"ticks\":\"\"}},\"marker\":{\"colorbar\":{\"outlinewidth\":0,\"ticks\":\"\"}}}],\"scattermapbox\":[{\"type\":\"scattermapbox\",\"marker\":{\"colorbar\":{\"outlinewidth\":0,\"ticks\":\"\"}}}],\"scatterternary\":[{\"type\":\"scatterternary\",\"marker\":{\"colorbar\":{\"outlinewidth\":0,\"ticks\":\"\"}}}],\"scattercarpet\":[{\"type\":\"scattercarpet\",\"marker\":{\"colorbar\":{\"outlinewidth\":0,\"ticks\":\"\"}}}],\"carpet\":[{\"aaxis\":{\"endlinecolor\":\"#2a3f5f\",\"gridcolor\":\"white\",\"linecolor\":\"white\",\"minorgridcolor\":\"white\",\"startlinecolor\":\"#2a3f5f\"},\"baxis\":{\"endlinecolor\":\"#2a3f5f\",\"gridcolor\":\"white\",\"linecolor\":\"white\",\"minorgridcolor\":\"white\",\"startlinecolor\":\"#2a3f5f\"},\"type\":\"carpet\"}],\"table\":[{\"cells\":{\"fill\":{\"color\":\"#EBF0F8\"},\"line\":{\"color\":\"white\"}},\"header\":{\"fill\":{\"color\":\"#C8D4E3\"},\"line\":{\"color\":\"white\"}},\"type\":\"table\"}],\"barpolar\":[{\"marker\":{\"line\":{\"color\":\"#E5ECF6\",\"width\":0.5},\"pattern\":{\"fillmode\":\"overlay\",\"size\":10,\"solidity\":0.2}},\"type\":\"barpolar\"}],\"pie\":[{\"automargin\":true,\"type\":\"pie\"}]},\"layout\":{\"autotypenumbers\":\"strict\",\"colorway\":[\"#636efa\",\"#EF553B\",\"#00cc96\",\"#ab63fa\",\"#FFA15A\",\"#19d3f3\",\"#FF6692\",\"#B6E880\",\"#FF97FF\",\"#FECB52\"],\"font\":{\"color\":\"#2a3f5f\"},\"hovermode\":\"closest\",\"hoverlabel\":{\"align\":\"left\"},\"paper_bgcolor\":\"white\",\"plot_bgcolor\":\"#E5ECF6\",\"polar\":{\"bgcolor\":\"#E5ECF6\",\"angularaxis\":{\"gridcolor\":\"white\",\"linecolor\":\"white\",\"ticks\":\"\"},\"radialaxis\":{\"gridcolor\":\"white\",\"linecolor\":\"white\",\"ticks\":\"\"}},\"ternary\":{\"bgcolor\":\"#E5ECF6\",\"aaxis\":{\"gridcolor\":\"white\",\"linecolor\":\"white\",\"ticks\":\"\"},\"baxis\":{\"gridcolor\":\"white\",\"linecolor\":\"white\",\"ticks\":\"\"},\"caxis\":{\"gridcolor\":\"white\",\"linecolor\":\"white\",\"ticks\":\"\"}},\"coloraxis\":{\"colorbar\":{\"outlinewidth\":0,\"ticks\":\"\"}},\"colorscale\":{\"sequential\":[[0.0,\"#0d0887\"],[0.1111111111111111,\"#46039f\"],[0.2222222222222222,\"#7201a8\"],[0.3333333333333333,\"#9c179e\"],[0.4444444444444444,\"#bd3786\"],[0.5555555555555556,\"#d8576b\"],[0.6666666666666666,\"#ed7953\"],[0.7777777777777778,\"#fb9f3a\"],[0.8888888888888888,\"#fdca26\"],[1.0,\"#f0f921\"]],\"sequentialminus\":[[0.0,\"#0d0887\"],[0.1111111111111111,\"#46039f\"],[0.2222222222222222,\"#7201a8\"],[0.3333333333333333,\"#9c179e\"],[0.4444444444444444,\"#bd3786\"],[0.5555555555555556,\"#d8576b\"],[0.6666666666666666,\"#ed7953\"],[0.7777777777777778,\"#fb9f3a\"],[0.8888888888888888,\"#fdca26\"],[1.0,\"#f0f921\"]],\"diverging\":[[0,\"#8e0152\"],[0.1,\"#c51b7d\"],[0.2,\"#de77ae\"],[0.3,\"#f1b6da\"],[0.4,\"#fde0ef\"],[0.5,\"#f7f7f7\"],[0.6,\"#e6f5d0\"],[0.7,\"#b8e186\"],[0.8,\"#7fbc41\"],[0.9,\"#4d9221\"],[1,\"#276419\"]]},\"xaxis\":{\"gridcolor\":\"white\",\"linecolor\":\"white\",\"ticks\":\"\",\"title\":{\"standoff\":15},\"zerolinecolor\":\"white\",\"automargin\":true,\"zerolinewidth\":2},\"yaxis\":{\"gridcolor\":\"white\",\"linecolor\":\"white\",\"ticks\":\"\",\"title\":{\"standoff\":15},\"zerolinecolor\":\"white\",\"automargin\":true,\"zerolinewidth\":2},\"scene\":{\"xaxis\":{\"backgroundcolor\":\"#E5ECF6\",\"gridcolor\":\"white\",\"linecolor\":\"white\",\"showbackground\":true,\"ticks\":\"\",\"zerolinecolor\":\"white\",\"gridwidth\":2},\"yaxis\":{\"backgroundcolor\":\"#E5ECF6\",\"gridcolor\":\"white\",\"linecolor\":\"white\",\"showbackground\":true,\"ticks\":\"\",\"zerolinecolor\":\"white\",\"gridwidth\":2},\"zaxis\":{\"backgroundcolor\":\"#E5ECF6\",\"gridcolor\":\"white\",\"linecolor\":\"white\",\"showbackground\":true,\"ticks\":\"\",\"zerolinecolor\":\"white\",\"gridwidth\":2}},\"shapedefaults\":{\"line\":{\"color\":\"#2a3f5f\"}},\"annotationdefaults\":{\"arrowcolor\":\"#2a3f5f\",\"arrowhead\":0,\"arrowwidth\":1},\"geo\":{\"bgcolor\":\"white\",\"landcolor\":\"#E5ECF6\",\"subunitcolor\":\"white\",\"showland\":true,\"showlakes\":true,\"lakecolor\":\"white\"},\"title\":{\"x\":0.05},\"mapbox\":{\"style\":\"light\"}}},\"xaxis\":{\"anchor\":\"y\",\"domain\":[0.0,1.0],\"title\":{\"text\":\"x\"}},\"yaxis\":{\"anchor\":\"x\",\"domain\":[0.0,1.0],\"title\":{\"text\":\"y\"}},\"legend\":{\"title\":{\"text\":\"color\"},\"tracegroupgap\":0},\"title\":{\"text\":\"Additive Model\"}},                        {\"responsive\": true}                    ).then(function(){\n",
       "                            \n",
       "var gd = document.getElementById('008e8dde-e84c-4850-bc5d-aae69ded5e24');\n",
       "var x = new MutationObserver(function (mutations, observer) {{\n",
       "        var display = window.getComputedStyle(gd).display;\n",
       "        if (!display || display === 'none') {{\n",
       "            console.log([gd, 'removed!']);\n",
       "            Plotly.purge(gd);\n",
       "            observer.disconnect();\n",
       "        }}\n",
       "}});\n",
       "\n",
       "// Listen for the removal of the full notebook cells\n",
       "var notebookContainer = gd.closest('#notebook-container');\n",
       "if (notebookContainer) {{\n",
       "    x.observe(notebookContainer, {childList: true});\n",
       "}}\n",
       "\n",
       "// Listen for the clearing of the current output cell\n",
       "var outputEl = gd.closest('.output');\n",
       "if (outputEl) {{\n",
       "    x.observe(outputEl, {childList: true});\n",
       "}}\n",
       "\n",
       "                        })                };                });            </script>        </div>"
      ]
     },
     "metadata": {},
     "output_type": "display_data"
    },
    {
     "data": {
      "application/vnd.plotly.v1+json": {
       "config": {
        "plotlyServerURL": "https://plot.ly"
       },
       "data": [
        {
         "hovertemplate": "color=0<br>x=%{x}<br>y=%{y}<extra></extra>",
         "legendgroup": "0",
         "marker": {
          "color": "#636efa",
          "symbol": "circle"
         },
         "mode": "markers",
         "name": "0",
         "orientation": "v",
         "showlegend": true,
         "type": "scatter",
         "x": [
          0,
          0.20202020202020202,
          0.30303030303030304,
          0.40404040404040403,
          0.6060606060606061,
          0.7070707070707071,
          0.8080808080808081,
          1.0101010101010102,
          1.1111111111111112,
          1.2121212121212122,
          1.3131313131313131,
          1.5151515151515151,
          1.9191919191919191,
          2.121212121212121,
          3.0303030303030303,
          3.131313131313131,
          3.5353535353535355,
          3.7373737373737375,
          3.8383838383838382,
          3.9393939393939394,
          4.040404040404041,
          4.141414141414141,
          4.747474747474747,
          5.05050505050505,
          5.252525252525253,
          5.454545454545454,
          5.757575757575758,
          5.858585858585858,
          5.959595959595959,
          6.0606060606060606,
          6.161616161616162,
          6.262626262626262,
          6.363636363636363,
          6.4646464646464645,
          6.767676767676767,
          7.2727272727272725,
          7.474747474747475,
          7.878787878787879,
          8.080808080808081,
          8.282828282828282,
          8.484848484848484,
          8.585858585858587,
          8.787878787878787,
          10
         ],
         "xaxis": "x",
         "y": [
          1,
          1.101010101010101,
          1.1515151515151516,
          1.202020202020202,
          1.303030303030303,
          1.3535353535353536,
          1.404040404040404,
          1.5050505050505052,
          1.5555555555555556,
          1.606060606060606,
          1.6565656565656566,
          1.7575757575757576,
          1.9595959595959596,
          2.0606060606060606,
          2.515151515151515,
          2.5656565656565657,
          2.7676767676767677,
          2.8686868686868685,
          2.919191919191919,
          2.9696969696969697,
          3.0202020202020203,
          3.0707070707070705,
          3.3737373737373737,
          3.525252525252525,
          3.6262626262626263,
          3.727272727272727,
          3.878787878787879,
          3.929292929292929,
          3.9797979797979797,
          4.03030303030303,
          4.080808080808081,
          4.1313131313131315,
          4.181818181818182,
          4.232323232323232,
          4.383838383838384,
          4.636363636363637,
          4.737373737373737,
          4.9393939393939394,
          5.040404040404041,
          5.141414141414141,
          5.242424242424242,
          5.292929292929293,
          5.393939393939394,
          6
         ],
         "yaxis": "y"
        },
        {
         "hovertemplate": "color=1<br>x=%{x}<br>y=%{y}<extra></extra>",
         "legendgroup": "1",
         "marker": {
          "color": "#EF553B",
          "symbol": "circle"
         },
         "mode": "markers",
         "name": "1",
         "orientation": "v",
         "showlegend": true,
         "type": "scatter",
         "x": [
          0.10101010101010101,
          0.5050505050505051,
          0.9090909090909091,
          1.4141414141414141,
          1.6161616161616161,
          1.7171717171717171,
          1.8181818181818181,
          2.0202020202020203,
          2.2222222222222223,
          2.323232323232323,
          2.4242424242424243,
          2.525252525252525,
          2.6262626262626263,
          2.727272727272727,
          2.8282828282828283,
          2.929292929292929,
          3.2323232323232323,
          3.3333333333333335,
          3.4343434343434343,
          3.6363636363636362,
          4.242424242424242,
          4.343434343434343,
          4.444444444444445,
          4.545454545454545,
          4.646464646464646,
          4.848484848484849,
          4.94949494949495,
          5.151515151515151,
          5.353535353535354,
          5.555555555555555,
          5.656565656565657,
          6.565656565656566,
          6.666666666666667,
          6.8686868686868685,
          6.96969696969697,
          7.070707070707071,
          7.171717171717171,
          7.373737373737374,
          7.575757575757575,
          7.6767676767676765,
          7.777777777777778,
          7.979797979797979,
          8.181818181818182,
          8.383838383838384,
          8.686868686868687,
          8.88888888888889,
          8.98989898989899,
          9.09090909090909,
          9.191919191919192,
          9.292929292929292,
          9.393939393939394,
          9.494949494949495,
          9.595959595959595,
          9.696969696969697,
          9.797979797979798,
          9.8989898989899
         ],
         "xaxis": "x",
         "y": [
          3.080808080808081,
          3.404040404040404,
          3.7272727272727275,
          4.1313131313131315,
          4.292929292929292,
          4.373737373737374,
          4.454545454545455,
          4.616161616161617,
          4.777777777777778,
          4.858585858585859,
          4.9393939393939394,
          5.020202020202021,
          5.101010101010101,
          5.181818181818182,
          5.262626262626263,
          5.343434343434343,
          5.585858585858586,
          5.666666666666667,
          5.747474747474747,
          5.909090909090909,
          6.393939393939394,
          6.474747474747474,
          6.555555555555555,
          6.636363636363636,
          6.717171717171717,
          6.878787878787879,
          6.95959595959596,
          7.121212121212121,
          7.282828282828283,
          7.444444444444445,
          7.525252525252526,
          8.252525252525253,
          8.333333333333334,
          8.494949494949495,
          8.575757575757574,
          8.656565656565657,
          8.737373737373737,
          8.8989898989899,
          9.060606060606059,
          9.141414141414142,
          9.222222222222221,
          9.383838383838384,
          9.545454545454545,
          9.707070707070708,
          9.94949494949495,
          10.11111111111111,
          10.191919191919192,
          10.272727272727272,
          10.353535353535353,
          10.434343434343434,
          10.515151515151516,
          10.595959595959595,
          10.676767676767676,
          10.757575757575758,
          10.838383838383837,
          10.91919191919192
         ],
         "yaxis": "y"
        }
       ],
       "layout": {
        "legend": {
         "title": {
          "text": "color"
         },
         "tracegroupgap": 0
        },
        "template": {
         "data": {
          "bar": [
           {
            "error_x": {
             "color": "#2a3f5f"
            },
            "error_y": {
             "color": "#2a3f5f"
            },
            "marker": {
             "line": {
              "color": "#E5ECF6",
              "width": 0.5
             },
             "pattern": {
              "fillmode": "overlay",
              "size": 10,
              "solidity": 0.2
             }
            },
            "type": "bar"
           }
          ],
          "barpolar": [
           {
            "marker": {
             "line": {
              "color": "#E5ECF6",
              "width": 0.5
             },
             "pattern": {
              "fillmode": "overlay",
              "size": 10,
              "solidity": 0.2
             }
            },
            "type": "barpolar"
           }
          ],
          "carpet": [
           {
            "aaxis": {
             "endlinecolor": "#2a3f5f",
             "gridcolor": "white",
             "linecolor": "white",
             "minorgridcolor": "white",
             "startlinecolor": "#2a3f5f"
            },
            "baxis": {
             "endlinecolor": "#2a3f5f",
             "gridcolor": "white",
             "linecolor": "white",
             "minorgridcolor": "white",
             "startlinecolor": "#2a3f5f"
            },
            "type": "carpet"
           }
          ],
          "choropleth": [
           {
            "colorbar": {
             "outlinewidth": 0,
             "ticks": ""
            },
            "type": "choropleth"
           }
          ],
          "contour": [
           {
            "colorbar": {
             "outlinewidth": 0,
             "ticks": ""
            },
            "colorscale": [
             [
              0,
              "#0d0887"
             ],
             [
              0.1111111111111111,
              "#46039f"
             ],
             [
              0.2222222222222222,
              "#7201a8"
             ],
             [
              0.3333333333333333,
              "#9c179e"
             ],
             [
              0.4444444444444444,
              "#bd3786"
             ],
             [
              0.5555555555555556,
              "#d8576b"
             ],
             [
              0.6666666666666666,
              "#ed7953"
             ],
             [
              0.7777777777777778,
              "#fb9f3a"
             ],
             [
              0.8888888888888888,
              "#fdca26"
             ],
             [
              1,
              "#f0f921"
             ]
            ],
            "type": "contour"
           }
          ],
          "contourcarpet": [
           {
            "colorbar": {
             "outlinewidth": 0,
             "ticks": ""
            },
            "type": "contourcarpet"
           }
          ],
          "heatmap": [
           {
            "colorbar": {
             "outlinewidth": 0,
             "ticks": ""
            },
            "colorscale": [
             [
              0,
              "#0d0887"
             ],
             [
              0.1111111111111111,
              "#46039f"
             ],
             [
              0.2222222222222222,
              "#7201a8"
             ],
             [
              0.3333333333333333,
              "#9c179e"
             ],
             [
              0.4444444444444444,
              "#bd3786"
             ],
             [
              0.5555555555555556,
              "#d8576b"
             ],
             [
              0.6666666666666666,
              "#ed7953"
             ],
             [
              0.7777777777777778,
              "#fb9f3a"
             ],
             [
              0.8888888888888888,
              "#fdca26"
             ],
             [
              1,
              "#f0f921"
             ]
            ],
            "type": "heatmap"
           }
          ],
          "heatmapgl": [
           {
            "colorbar": {
             "outlinewidth": 0,
             "ticks": ""
            },
            "colorscale": [
             [
              0,
              "#0d0887"
             ],
             [
              0.1111111111111111,
              "#46039f"
             ],
             [
              0.2222222222222222,
              "#7201a8"
             ],
             [
              0.3333333333333333,
              "#9c179e"
             ],
             [
              0.4444444444444444,
              "#bd3786"
             ],
             [
              0.5555555555555556,
              "#d8576b"
             ],
             [
              0.6666666666666666,
              "#ed7953"
             ],
             [
              0.7777777777777778,
              "#fb9f3a"
             ],
             [
              0.8888888888888888,
              "#fdca26"
             ],
             [
              1,
              "#f0f921"
             ]
            ],
            "type": "heatmapgl"
           }
          ],
          "histogram": [
           {
            "marker": {
             "pattern": {
              "fillmode": "overlay",
              "size": 10,
              "solidity": 0.2
             }
            },
            "type": "histogram"
           }
          ],
          "histogram2d": [
           {
            "colorbar": {
             "outlinewidth": 0,
             "ticks": ""
            },
            "colorscale": [
             [
              0,
              "#0d0887"
             ],
             [
              0.1111111111111111,
              "#46039f"
             ],
             [
              0.2222222222222222,
              "#7201a8"
             ],
             [
              0.3333333333333333,
              "#9c179e"
             ],
             [
              0.4444444444444444,
              "#bd3786"
             ],
             [
              0.5555555555555556,
              "#d8576b"
             ],
             [
              0.6666666666666666,
              "#ed7953"
             ],
             [
              0.7777777777777778,
              "#fb9f3a"
             ],
             [
              0.8888888888888888,
              "#fdca26"
             ],
             [
              1,
              "#f0f921"
             ]
            ],
            "type": "histogram2d"
           }
          ],
          "histogram2dcontour": [
           {
            "colorbar": {
             "outlinewidth": 0,
             "ticks": ""
            },
            "colorscale": [
             [
              0,
              "#0d0887"
             ],
             [
              0.1111111111111111,
              "#46039f"
             ],
             [
              0.2222222222222222,
              "#7201a8"
             ],
             [
              0.3333333333333333,
              "#9c179e"
             ],
             [
              0.4444444444444444,
              "#bd3786"
             ],
             [
              0.5555555555555556,
              "#d8576b"
             ],
             [
              0.6666666666666666,
              "#ed7953"
             ],
             [
              0.7777777777777778,
              "#fb9f3a"
             ],
             [
              0.8888888888888888,
              "#fdca26"
             ],
             [
              1,
              "#f0f921"
             ]
            ],
            "type": "histogram2dcontour"
           }
          ],
          "mesh3d": [
           {
            "colorbar": {
             "outlinewidth": 0,
             "ticks": ""
            },
            "type": "mesh3d"
           }
          ],
          "parcoords": [
           {
            "line": {
             "colorbar": {
              "outlinewidth": 0,
              "ticks": ""
             }
            },
            "type": "parcoords"
           }
          ],
          "pie": [
           {
            "automargin": true,
            "type": "pie"
           }
          ],
          "scatter": [
           {
            "fillpattern": {
             "fillmode": "overlay",
             "size": 10,
             "solidity": 0.2
            },
            "type": "scatter"
           }
          ],
          "scatter3d": [
           {
            "line": {
             "colorbar": {
              "outlinewidth": 0,
              "ticks": ""
             }
            },
            "marker": {
             "colorbar": {
              "outlinewidth": 0,
              "ticks": ""
             }
            },
            "type": "scatter3d"
           }
          ],
          "scattercarpet": [
           {
            "marker": {
             "colorbar": {
              "outlinewidth": 0,
              "ticks": ""
             }
            },
            "type": "scattercarpet"
           }
          ],
          "scattergeo": [
           {
            "marker": {
             "colorbar": {
              "outlinewidth": 0,
              "ticks": ""
             }
            },
            "type": "scattergeo"
           }
          ],
          "scattergl": [
           {
            "marker": {
             "colorbar": {
              "outlinewidth": 0,
              "ticks": ""
             }
            },
            "type": "scattergl"
           }
          ],
          "scattermapbox": [
           {
            "marker": {
             "colorbar": {
              "outlinewidth": 0,
              "ticks": ""
             }
            },
            "type": "scattermapbox"
           }
          ],
          "scatterpolar": [
           {
            "marker": {
             "colorbar": {
              "outlinewidth": 0,
              "ticks": ""
             }
            },
            "type": "scatterpolar"
           }
          ],
          "scatterpolargl": [
           {
            "marker": {
             "colorbar": {
              "outlinewidth": 0,
              "ticks": ""
             }
            },
            "type": "scatterpolargl"
           }
          ],
          "scatterternary": [
           {
            "marker": {
             "colorbar": {
              "outlinewidth": 0,
              "ticks": ""
             }
            },
            "type": "scatterternary"
           }
          ],
          "surface": [
           {
            "colorbar": {
             "outlinewidth": 0,
             "ticks": ""
            },
            "colorscale": [
             [
              0,
              "#0d0887"
             ],
             [
              0.1111111111111111,
              "#46039f"
             ],
             [
              0.2222222222222222,
              "#7201a8"
             ],
             [
              0.3333333333333333,
              "#9c179e"
             ],
             [
              0.4444444444444444,
              "#bd3786"
             ],
             [
              0.5555555555555556,
              "#d8576b"
             ],
             [
              0.6666666666666666,
              "#ed7953"
             ],
             [
              0.7777777777777778,
              "#fb9f3a"
             ],
             [
              0.8888888888888888,
              "#fdca26"
             ],
             [
              1,
              "#f0f921"
             ]
            ],
            "type": "surface"
           }
          ],
          "table": [
           {
            "cells": {
             "fill": {
              "color": "#EBF0F8"
             },
             "line": {
              "color": "white"
             }
            },
            "header": {
             "fill": {
              "color": "#C8D4E3"
             },
             "line": {
              "color": "white"
             }
            },
            "type": "table"
           }
          ]
         },
         "layout": {
          "annotationdefaults": {
           "arrowcolor": "#2a3f5f",
           "arrowhead": 0,
           "arrowwidth": 1
          },
          "autotypenumbers": "strict",
          "coloraxis": {
           "colorbar": {
            "outlinewidth": 0,
            "ticks": ""
           }
          },
          "colorscale": {
           "diverging": [
            [
             0,
             "#8e0152"
            ],
            [
             0.1,
             "#c51b7d"
            ],
            [
             0.2,
             "#de77ae"
            ],
            [
             0.3,
             "#f1b6da"
            ],
            [
             0.4,
             "#fde0ef"
            ],
            [
             0.5,
             "#f7f7f7"
            ],
            [
             0.6,
             "#e6f5d0"
            ],
            [
             0.7,
             "#b8e186"
            ],
            [
             0.8,
             "#7fbc41"
            ],
            [
             0.9,
             "#4d9221"
            ],
            [
             1,
             "#276419"
            ]
           ],
           "sequential": [
            [
             0,
             "#0d0887"
            ],
            [
             0.1111111111111111,
             "#46039f"
            ],
            [
             0.2222222222222222,
             "#7201a8"
            ],
            [
             0.3333333333333333,
             "#9c179e"
            ],
            [
             0.4444444444444444,
             "#bd3786"
            ],
            [
             0.5555555555555556,
             "#d8576b"
            ],
            [
             0.6666666666666666,
             "#ed7953"
            ],
            [
             0.7777777777777778,
             "#fb9f3a"
            ],
            [
             0.8888888888888888,
             "#fdca26"
            ],
            [
             1,
             "#f0f921"
            ]
           ],
           "sequentialminus": [
            [
             0,
             "#0d0887"
            ],
            [
             0.1111111111111111,
             "#46039f"
            ],
            [
             0.2222222222222222,
             "#7201a8"
            ],
            [
             0.3333333333333333,
             "#9c179e"
            ],
            [
             0.4444444444444444,
             "#bd3786"
            ],
            [
             0.5555555555555556,
             "#d8576b"
            ],
            [
             0.6666666666666666,
             "#ed7953"
            ],
            [
             0.7777777777777778,
             "#fb9f3a"
            ],
            [
             0.8888888888888888,
             "#fdca26"
            ],
            [
             1,
             "#f0f921"
            ]
           ]
          },
          "colorway": [
           "#636efa",
           "#EF553B",
           "#00cc96",
           "#ab63fa",
           "#FFA15A",
           "#19d3f3",
           "#FF6692",
           "#B6E880",
           "#FF97FF",
           "#FECB52"
          ],
          "font": {
           "color": "#2a3f5f"
          },
          "geo": {
           "bgcolor": "white",
           "lakecolor": "white",
           "landcolor": "#E5ECF6",
           "showlakes": true,
           "showland": true,
           "subunitcolor": "white"
          },
          "hoverlabel": {
           "align": "left"
          },
          "hovermode": "closest",
          "mapbox": {
           "style": "light"
          },
          "paper_bgcolor": "white",
          "plot_bgcolor": "#E5ECF6",
          "polar": {
           "angularaxis": {
            "gridcolor": "white",
            "linecolor": "white",
            "ticks": ""
           },
           "bgcolor": "#E5ECF6",
           "radialaxis": {
            "gridcolor": "white",
            "linecolor": "white",
            "ticks": ""
           }
          },
          "scene": {
           "xaxis": {
            "backgroundcolor": "#E5ECF6",
            "gridcolor": "white",
            "gridwidth": 2,
            "linecolor": "white",
            "showbackground": true,
            "ticks": "",
            "zerolinecolor": "white"
           },
           "yaxis": {
            "backgroundcolor": "#E5ECF6",
            "gridcolor": "white",
            "gridwidth": 2,
            "linecolor": "white",
            "showbackground": true,
            "ticks": "",
            "zerolinecolor": "white"
           },
           "zaxis": {
            "backgroundcolor": "#E5ECF6",
            "gridcolor": "white",
            "gridwidth": 2,
            "linecolor": "white",
            "showbackground": true,
            "ticks": "",
            "zerolinecolor": "white"
           }
          },
          "shapedefaults": {
           "line": {
            "color": "#2a3f5f"
           }
          },
          "ternary": {
           "aaxis": {
            "gridcolor": "white",
            "linecolor": "white",
            "ticks": ""
           },
           "baxis": {
            "gridcolor": "white",
            "linecolor": "white",
            "ticks": ""
           },
           "bgcolor": "#E5ECF6",
           "caxis": {
            "gridcolor": "white",
            "linecolor": "white",
            "ticks": ""
           }
          },
          "title": {
           "x": 0.05
          },
          "xaxis": {
           "automargin": true,
           "gridcolor": "white",
           "linecolor": "white",
           "ticks": "",
           "title": {
            "standoff": 15
           },
           "zerolinecolor": "white",
           "zerolinewidth": 2
          },
          "yaxis": {
           "automargin": true,
           "gridcolor": "white",
           "linecolor": "white",
           "ticks": "",
           "title": {
            "standoff": 15
           },
           "zerolinecolor": "white",
           "zerolinewidth": 2
          }
         }
        },
        "title": {
         "text": "Interaction Model"
        },
        "xaxis": {
         "anchor": "y",
         "domain": [
          0,
          1
         ],
         "title": {
          "text": "x"
         }
        },
        "yaxis": {
         "anchor": "x",
         "domain": [
          0,
          1
         ],
         "title": {
          "text": "y"
         }
        }
       }
      },
      "text/html": [
       "<div>                            <div id=\"5b2fd1dd-1227-4f1d-968f-4b77988d5d6d\" class=\"plotly-graph-div\" style=\"height:525px; width:100%;\"></div>            <script type=\"text/javascript\">                require([\"plotly\"], function(Plotly) {                    window.PLOTLYENV=window.PLOTLYENV || {};                                    if (document.getElementById(\"5b2fd1dd-1227-4f1d-968f-4b77988d5d6d\")) {                    Plotly.newPlot(                        \"5b2fd1dd-1227-4f1d-968f-4b77988d5d6d\",                        [{\"hovertemplate\":\"color=0\\u003cbr\\u003ex=%{x}\\u003cbr\\u003ey=%{y}\\u003cextra\\u003e\\u003c\\u002fextra\\u003e\",\"legendgroup\":\"0\",\"marker\":{\"color\":\"#636efa\",\"symbol\":\"circle\"},\"mode\":\"markers\",\"name\":\"0\",\"orientation\":\"v\",\"showlegend\":true,\"x\":[0.0,0.20202020202020202,0.30303030303030304,0.40404040404040403,0.6060606060606061,0.7070707070707071,0.8080808080808081,1.0101010101010102,1.1111111111111112,1.2121212121212122,1.3131313131313131,1.5151515151515151,1.9191919191919191,2.121212121212121,3.0303030303030303,3.131313131313131,3.5353535353535355,3.7373737373737375,3.8383838383838382,3.9393939393939394,4.040404040404041,4.141414141414141,4.747474747474747,5.05050505050505,5.252525252525253,5.454545454545454,5.757575757575758,5.858585858585858,5.959595959595959,6.0606060606060606,6.161616161616162,6.262626262626262,6.363636363636363,6.4646464646464645,6.767676767676767,7.2727272727272725,7.474747474747475,7.878787878787879,8.080808080808081,8.282828282828282,8.484848484848484,8.585858585858587,8.787878787878787,10.0],\"xaxis\":\"x\",\"y\":[1.0,1.101010101010101,1.1515151515151516,1.202020202020202,1.303030303030303,1.3535353535353536,1.404040404040404,1.5050505050505052,1.5555555555555556,1.606060606060606,1.6565656565656566,1.7575757575757576,1.9595959595959596,2.0606060606060606,2.515151515151515,2.5656565656565657,2.7676767676767677,2.8686868686868685,2.919191919191919,2.9696969696969697,3.0202020202020203,3.0707070707070705,3.3737373737373737,3.525252525252525,3.6262626262626263,3.727272727272727,3.878787878787879,3.929292929292929,3.9797979797979797,4.03030303030303,4.080808080808081,4.1313131313131315,4.181818181818182,4.232323232323232,4.383838383838384,4.636363636363637,4.737373737373737,4.9393939393939394,5.040404040404041,5.141414141414141,5.242424242424242,5.292929292929293,5.393939393939394,6.0],\"yaxis\":\"y\",\"type\":\"scatter\"},{\"hovertemplate\":\"color=1\\u003cbr\\u003ex=%{x}\\u003cbr\\u003ey=%{y}\\u003cextra\\u003e\\u003c\\u002fextra\\u003e\",\"legendgroup\":\"1\",\"marker\":{\"color\":\"#EF553B\",\"symbol\":\"circle\"},\"mode\":\"markers\",\"name\":\"1\",\"orientation\":\"v\",\"showlegend\":true,\"x\":[0.10101010101010101,0.5050505050505051,0.9090909090909091,1.4141414141414141,1.6161616161616161,1.7171717171717171,1.8181818181818181,2.0202020202020203,2.2222222222222223,2.323232323232323,2.4242424242424243,2.525252525252525,2.6262626262626263,2.727272727272727,2.8282828282828283,2.929292929292929,3.2323232323232323,3.3333333333333335,3.4343434343434343,3.6363636363636362,4.242424242424242,4.343434343434343,4.444444444444445,4.545454545454545,4.646464646464646,4.848484848484849,4.94949494949495,5.151515151515151,5.353535353535354,5.555555555555555,5.656565656565657,6.565656565656566,6.666666666666667,6.8686868686868685,6.96969696969697,7.070707070707071,7.171717171717171,7.373737373737374,7.575757575757575,7.6767676767676765,7.777777777777778,7.979797979797979,8.181818181818182,8.383838383838384,8.686868686868687,8.88888888888889,8.98989898989899,9.09090909090909,9.191919191919192,9.292929292929292,9.393939393939394,9.494949494949495,9.595959595959595,9.696969696969697,9.797979797979798,9.8989898989899],\"xaxis\":\"x\",\"y\":[3.080808080808081,3.404040404040404,3.7272727272727275,4.1313131313131315,4.292929292929292,4.373737373737374,4.454545454545455,4.616161616161617,4.777777777777778,4.858585858585859,4.9393939393939394,5.020202020202021,5.101010101010101,5.181818181818182,5.262626262626263,5.343434343434343,5.585858585858586,5.666666666666667,5.747474747474747,5.909090909090909,6.393939393939394,6.474747474747474,6.555555555555555,6.636363636363636,6.717171717171717,6.878787878787879,6.95959595959596,7.121212121212121,7.282828282828283,7.444444444444445,7.525252525252526,8.252525252525253,8.333333333333334,8.494949494949495,8.575757575757574,8.656565656565657,8.737373737373737,8.8989898989899,9.060606060606059,9.141414141414142,9.222222222222221,9.383838383838384,9.545454545454545,9.707070707070708,9.94949494949495,10.11111111111111,10.191919191919192,10.272727272727272,10.353535353535353,10.434343434343434,10.515151515151516,10.595959595959595,10.676767676767676,10.757575757575758,10.838383838383837,10.91919191919192],\"yaxis\":\"y\",\"type\":\"scatter\"}],                        {\"template\":{\"data\":{\"histogram2dcontour\":[{\"type\":\"histogram2dcontour\",\"colorbar\":{\"outlinewidth\":0,\"ticks\":\"\"},\"colorscale\":[[0.0,\"#0d0887\"],[0.1111111111111111,\"#46039f\"],[0.2222222222222222,\"#7201a8\"],[0.3333333333333333,\"#9c179e\"],[0.4444444444444444,\"#bd3786\"],[0.5555555555555556,\"#d8576b\"],[0.6666666666666666,\"#ed7953\"],[0.7777777777777778,\"#fb9f3a\"],[0.8888888888888888,\"#fdca26\"],[1.0,\"#f0f921\"]]}],\"choropleth\":[{\"type\":\"choropleth\",\"colorbar\":{\"outlinewidth\":0,\"ticks\":\"\"}}],\"histogram2d\":[{\"type\":\"histogram2d\",\"colorbar\":{\"outlinewidth\":0,\"ticks\":\"\"},\"colorscale\":[[0.0,\"#0d0887\"],[0.1111111111111111,\"#46039f\"],[0.2222222222222222,\"#7201a8\"],[0.3333333333333333,\"#9c179e\"],[0.4444444444444444,\"#bd3786\"],[0.5555555555555556,\"#d8576b\"],[0.6666666666666666,\"#ed7953\"],[0.7777777777777778,\"#fb9f3a\"],[0.8888888888888888,\"#fdca26\"],[1.0,\"#f0f921\"]]}],\"heatmap\":[{\"type\":\"heatmap\",\"colorbar\":{\"outlinewidth\":0,\"ticks\":\"\"},\"colorscale\":[[0.0,\"#0d0887\"],[0.1111111111111111,\"#46039f\"],[0.2222222222222222,\"#7201a8\"],[0.3333333333333333,\"#9c179e\"],[0.4444444444444444,\"#bd3786\"],[0.5555555555555556,\"#d8576b\"],[0.6666666666666666,\"#ed7953\"],[0.7777777777777778,\"#fb9f3a\"],[0.8888888888888888,\"#fdca26\"],[1.0,\"#f0f921\"]]}],\"heatmapgl\":[{\"type\":\"heatmapgl\",\"colorbar\":{\"outlinewidth\":0,\"ticks\":\"\"},\"colorscale\":[[0.0,\"#0d0887\"],[0.1111111111111111,\"#46039f\"],[0.2222222222222222,\"#7201a8\"],[0.3333333333333333,\"#9c179e\"],[0.4444444444444444,\"#bd3786\"],[0.5555555555555556,\"#d8576b\"],[0.6666666666666666,\"#ed7953\"],[0.7777777777777778,\"#fb9f3a\"],[0.8888888888888888,\"#fdca26\"],[1.0,\"#f0f921\"]]}],\"contourcarpet\":[{\"type\":\"contourcarpet\",\"colorbar\":{\"outlinewidth\":0,\"ticks\":\"\"}}],\"contour\":[{\"type\":\"contour\",\"colorbar\":{\"outlinewidth\":0,\"ticks\":\"\"},\"colorscale\":[[0.0,\"#0d0887\"],[0.1111111111111111,\"#46039f\"],[0.2222222222222222,\"#7201a8\"],[0.3333333333333333,\"#9c179e\"],[0.4444444444444444,\"#bd3786\"],[0.5555555555555556,\"#d8576b\"],[0.6666666666666666,\"#ed7953\"],[0.7777777777777778,\"#fb9f3a\"],[0.8888888888888888,\"#fdca26\"],[1.0,\"#f0f921\"]]}],\"surface\":[{\"type\":\"surface\",\"colorbar\":{\"outlinewidth\":0,\"ticks\":\"\"},\"colorscale\":[[0.0,\"#0d0887\"],[0.1111111111111111,\"#46039f\"],[0.2222222222222222,\"#7201a8\"],[0.3333333333333333,\"#9c179e\"],[0.4444444444444444,\"#bd3786\"],[0.5555555555555556,\"#d8576b\"],[0.6666666666666666,\"#ed7953\"],[0.7777777777777778,\"#fb9f3a\"],[0.8888888888888888,\"#fdca26\"],[1.0,\"#f0f921\"]]}],\"mesh3d\":[{\"type\":\"mesh3d\",\"colorbar\":{\"outlinewidth\":0,\"ticks\":\"\"}}],\"scatter\":[{\"fillpattern\":{\"fillmode\":\"overlay\",\"size\":10,\"solidity\":0.2},\"type\":\"scatter\"}],\"parcoords\":[{\"type\":\"parcoords\",\"line\":{\"colorbar\":{\"outlinewidth\":0,\"ticks\":\"\"}}}],\"scatterpolargl\":[{\"type\":\"scatterpolargl\",\"marker\":{\"colorbar\":{\"outlinewidth\":0,\"ticks\":\"\"}}}],\"bar\":[{\"error_x\":{\"color\":\"#2a3f5f\"},\"error_y\":{\"color\":\"#2a3f5f\"},\"marker\":{\"line\":{\"color\":\"#E5ECF6\",\"width\":0.5},\"pattern\":{\"fillmode\":\"overlay\",\"size\":10,\"solidity\":0.2}},\"type\":\"bar\"}],\"scattergeo\":[{\"type\":\"scattergeo\",\"marker\":{\"colorbar\":{\"outlinewidth\":0,\"ticks\":\"\"}}}],\"scatterpolar\":[{\"type\":\"scatterpolar\",\"marker\":{\"colorbar\":{\"outlinewidth\":0,\"ticks\":\"\"}}}],\"histogram\":[{\"marker\":{\"pattern\":{\"fillmode\":\"overlay\",\"size\":10,\"solidity\":0.2}},\"type\":\"histogram\"}],\"scattergl\":[{\"type\":\"scattergl\",\"marker\":{\"colorbar\":{\"outlinewidth\":0,\"ticks\":\"\"}}}],\"scatter3d\":[{\"type\":\"scatter3d\",\"line\":{\"colorbar\":{\"outlinewidth\":0,\"ticks\":\"\"}},\"marker\":{\"colorbar\":{\"outlinewidth\":0,\"ticks\":\"\"}}}],\"scattermapbox\":[{\"type\":\"scattermapbox\",\"marker\":{\"colorbar\":{\"outlinewidth\":0,\"ticks\":\"\"}}}],\"scatterternary\":[{\"type\":\"scatterternary\",\"marker\":{\"colorbar\":{\"outlinewidth\":0,\"ticks\":\"\"}}}],\"scattercarpet\":[{\"type\":\"scattercarpet\",\"marker\":{\"colorbar\":{\"outlinewidth\":0,\"ticks\":\"\"}}}],\"carpet\":[{\"aaxis\":{\"endlinecolor\":\"#2a3f5f\",\"gridcolor\":\"white\",\"linecolor\":\"white\",\"minorgridcolor\":\"white\",\"startlinecolor\":\"#2a3f5f\"},\"baxis\":{\"endlinecolor\":\"#2a3f5f\",\"gridcolor\":\"white\",\"linecolor\":\"white\",\"minorgridcolor\":\"white\",\"startlinecolor\":\"#2a3f5f\"},\"type\":\"carpet\"}],\"table\":[{\"cells\":{\"fill\":{\"color\":\"#EBF0F8\"},\"line\":{\"color\":\"white\"}},\"header\":{\"fill\":{\"color\":\"#C8D4E3\"},\"line\":{\"color\":\"white\"}},\"type\":\"table\"}],\"barpolar\":[{\"marker\":{\"line\":{\"color\":\"#E5ECF6\",\"width\":0.5},\"pattern\":{\"fillmode\":\"overlay\",\"size\":10,\"solidity\":0.2}},\"type\":\"barpolar\"}],\"pie\":[{\"automargin\":true,\"type\":\"pie\"}]},\"layout\":{\"autotypenumbers\":\"strict\",\"colorway\":[\"#636efa\",\"#EF553B\",\"#00cc96\",\"#ab63fa\",\"#FFA15A\",\"#19d3f3\",\"#FF6692\",\"#B6E880\",\"#FF97FF\",\"#FECB52\"],\"font\":{\"color\":\"#2a3f5f\"},\"hovermode\":\"closest\",\"hoverlabel\":{\"align\":\"left\"},\"paper_bgcolor\":\"white\",\"plot_bgcolor\":\"#E5ECF6\",\"polar\":{\"bgcolor\":\"#E5ECF6\",\"angularaxis\":{\"gridcolor\":\"white\",\"linecolor\":\"white\",\"ticks\":\"\"},\"radialaxis\":{\"gridcolor\":\"white\",\"linecolor\":\"white\",\"ticks\":\"\"}},\"ternary\":{\"bgcolor\":\"#E5ECF6\",\"aaxis\":{\"gridcolor\":\"white\",\"linecolor\":\"white\",\"ticks\":\"\"},\"baxis\":{\"gridcolor\":\"white\",\"linecolor\":\"white\",\"ticks\":\"\"},\"caxis\":{\"gridcolor\":\"white\",\"linecolor\":\"white\",\"ticks\":\"\"}},\"coloraxis\":{\"colorbar\":{\"outlinewidth\":0,\"ticks\":\"\"}},\"colorscale\":{\"sequential\":[[0.0,\"#0d0887\"],[0.1111111111111111,\"#46039f\"],[0.2222222222222222,\"#7201a8\"],[0.3333333333333333,\"#9c179e\"],[0.4444444444444444,\"#bd3786\"],[0.5555555555555556,\"#d8576b\"],[0.6666666666666666,\"#ed7953\"],[0.7777777777777778,\"#fb9f3a\"],[0.8888888888888888,\"#fdca26\"],[1.0,\"#f0f921\"]],\"sequentialminus\":[[0.0,\"#0d0887\"],[0.1111111111111111,\"#46039f\"],[0.2222222222222222,\"#7201a8\"],[0.3333333333333333,\"#9c179e\"],[0.4444444444444444,\"#bd3786\"],[0.5555555555555556,\"#d8576b\"],[0.6666666666666666,\"#ed7953\"],[0.7777777777777778,\"#fb9f3a\"],[0.8888888888888888,\"#fdca26\"],[1.0,\"#f0f921\"]],\"diverging\":[[0,\"#8e0152\"],[0.1,\"#c51b7d\"],[0.2,\"#de77ae\"],[0.3,\"#f1b6da\"],[0.4,\"#fde0ef\"],[0.5,\"#f7f7f7\"],[0.6,\"#e6f5d0\"],[0.7,\"#b8e186\"],[0.8,\"#7fbc41\"],[0.9,\"#4d9221\"],[1,\"#276419\"]]},\"xaxis\":{\"gridcolor\":\"white\",\"linecolor\":\"white\",\"ticks\":\"\",\"title\":{\"standoff\":15},\"zerolinecolor\":\"white\",\"automargin\":true,\"zerolinewidth\":2},\"yaxis\":{\"gridcolor\":\"white\",\"linecolor\":\"white\",\"ticks\":\"\",\"title\":{\"standoff\":15},\"zerolinecolor\":\"white\",\"automargin\":true,\"zerolinewidth\":2},\"scene\":{\"xaxis\":{\"backgroundcolor\":\"#E5ECF6\",\"gridcolor\":\"white\",\"linecolor\":\"white\",\"showbackground\":true,\"ticks\":\"\",\"zerolinecolor\":\"white\",\"gridwidth\":2},\"yaxis\":{\"backgroundcolor\":\"#E5ECF6\",\"gridcolor\":\"white\",\"linecolor\":\"white\",\"showbackground\":true,\"ticks\":\"\",\"zerolinecolor\":\"white\",\"gridwidth\":2},\"zaxis\":{\"backgroundcolor\":\"#E5ECF6\",\"gridcolor\":\"white\",\"linecolor\":\"white\",\"showbackground\":true,\"ticks\":\"\",\"zerolinecolor\":\"white\",\"gridwidth\":2}},\"shapedefaults\":{\"line\":{\"color\":\"#2a3f5f\"}},\"annotationdefaults\":{\"arrowcolor\":\"#2a3f5f\",\"arrowhead\":0,\"arrowwidth\":1},\"geo\":{\"bgcolor\":\"white\",\"landcolor\":\"#E5ECF6\",\"subunitcolor\":\"white\",\"showland\":true,\"showlakes\":true,\"lakecolor\":\"white\"},\"title\":{\"x\":0.05},\"mapbox\":{\"style\":\"light\"}}},\"xaxis\":{\"anchor\":\"y\",\"domain\":[0.0,1.0],\"title\":{\"text\":\"x\"}},\"yaxis\":{\"anchor\":\"x\",\"domain\":[0.0,1.0],\"title\":{\"text\":\"y\"}},\"legend\":{\"title\":{\"text\":\"color\"},\"tracegroupgap\":0},\"title\":{\"text\":\"Interaction Model\"}},                        {\"responsive\": true}                    ).then(function(){\n",
       "                            \n",
       "var gd = document.getElementById('5b2fd1dd-1227-4f1d-968f-4b77988d5d6d');\n",
       "var x = new MutationObserver(function (mutations, observer) {{\n",
       "        var display = window.getComputedStyle(gd).display;\n",
       "        if (!display || display === 'none') {{\n",
       "            console.log([gd, 'removed!']);\n",
       "            Plotly.purge(gd);\n",
       "            observer.disconnect();\n",
       "        }}\n",
       "}});\n",
       "\n",
       "// Listen for the removal of the full notebook cells\n",
       "var notebookContainer = gd.closest('#notebook-container');\n",
       "if (notebookContainer) {{\n",
       "    x.observe(notebookContainer, {childList: true});\n",
       "}}\n",
       "\n",
       "// Listen for the clearing of the current output cell\n",
       "var outputEl = gd.closest('.output');\n",
       "if (outputEl) {{\n",
       "    x.observe(outputEl, {childList: true});\n",
       "}}\n",
       "\n",
       "                        })                };                });            </script>        </div>"
      ]
     },
     "metadata": {},
     "output_type": "display_data"
    }
   ],
   "source": [
    "import pandas as pd\n",
    "import numpy as np\n",
    "import statsmodels.formula.api as smf\n",
    "import plotly.express as px\n",
    "\n",
    "# Simulated dataset\n",
    "np.random.seed(42)\n",
    "data = pd.DataFrame({\n",
    "    'predictor_continuous': np.linspace(0, 10, 100),\n",
    "    'predictor_binary': np.random.choice([0, 1], size=100),\n",
    "})\n",
    "data['outcome_additive'] = (\n",
    "    1 + 0.5 * data['predictor_continuous'] +\n",
    "    2 * data['predictor_binary'] +\n",
    "    np.random.normal(0, 1, 100)\n",
    ")\n",
    "data['outcome_binary'] = (data['outcome_additive'] > np.median(data['outcome_additive'])).astype(int)\n",
    "\n",
    "# Logistic regression (Additive)\n",
    "log_reg_add = smf.logit(\"outcome_binary ~ predictor_continuous + predictor_binary\", data=data).fit()\n",
    "\n",
    "# Logistic regression (Interaction)\n",
    "log_reg_interact = smf.logit(\"outcome_binary ~ predictor_continuous + predictor_binary + predictor_continuous:predictor_binary\", data=data).fit()\n",
    "\n",
    "# Print summaries\n",
    "print(\"Additive Model Summary:\")\n",
    "print(log_reg_add.summary())\n",
    "\n",
    "print(\"\\nInteraction Model Summary:\")\n",
    "print(log_reg_interact.summary())\n",
    "\n",
    "# Plot Additive Model\n",
    "fig_add = px.scatter(\n",
    "    x=data['predictor_continuous'],\n",
    "    y=data['outcome_binary'],\n",
    "    color=data['predictor_binary'].astype(str),\n",
    "    title=\"Additive Model\"\n",
    ")\n",
    "fig_add.show()\n",
    "\n",
    "# Plot Interaction Model\n",
    "data['interaction_effect'] = (\n",
    "    1 + 0.5 * data['predictor_continuous'] +\n",
    "    2 * data['predictor_binary'] +\n",
    "    0.3 * (data['predictor_continuous'] * data['predictor_binary'])\n",
    ")\n",
    "fig_inter = px.scatter(\n",
    "    x=data['predictor_continuous'],\n",
    "    y=data['interaction_effect'],\n",
    "    color=data['predictor_binary'].astype(str),\n",
    "    title=\"Interaction Model\"\n",
    ")\n",
    "fig_inter.show()\n"
   ]
  },
  {
   "cell_type": "markdown",
   "id": "c1cb16c1",
   "metadata": {},
   "source": [
    "# Question 3\n",
    "[Chatlog](\"https://chatgpt.com/share/674947d7-5414-8001-bc8c-eda9d68f9755)\n",
    "\n",
    "\n",
    "Additive Model Summary:\n",
    "\n",
    "Coefficients:\n",
    "Intercept: Baseline log odds of the outcome when both predictors are 0.\n",
    "predictor_continuous: Change in log odds of the outcome for a one-unit increase in the continuous predictor, holding the binary predictor constant.\n",
    "predictor_binary: Difference in log odds of the outcome when the binary predictor switches from 0 to 1, holding the continuous predictor constant.\n",
    "Model Fit:\n",
    "Look for the p-values of coefficients to determine if the predictors have statistically significant effects.\n",
    "Interaction Model Summary:\n",
    "\n",
    "Additional Term:\n",
    "predictor_continuous:predictor_binary: Captures the interaction effect between the continuous and binary predictors. A significant p-value here suggests that the effect of one predictor depends on the level of the other.\n",
    "Model Fit:\n",
    "Compare metrics like AIC or log-likelihood to assess whether the interaction model fits better than the additive model.\n",
    "Visualizations:\n",
    "\n",
    "Additive Model:\n",
    "Scatterplot of the continuous predictor against the outcome, with separate points/colors for binary predictor groups.\n",
    "Best-fit lines are parallel because the model assumes independent effects of predictors.\n",
    "Interaction Model:\n",
    "Scatterplot adjusted for the interaction term shows how the slope for the continuous predictor varies by binary predictor group.\n",
    "Diverging lines suggest that the relationship between the continuous predictor and the outcome depends on the binary predictor."
   ]
  },
  {
   "cell_type": "markdown",
   "id": "5124a67d",
   "metadata": {},
   "source": [
    "# Question 4 \n",
    "[Chatlog](\"https://chatgpt.com/share/674947d7-5414-8001-bc8c-eda9d68f9755)\n",
    "This question is esentially asking these two questions \n",
    "- Why can the predictors be statistically significant (strong evidence against the null hypothesis) while the overall model has low explanatory power (low R-squared)?\n",
    "- Does this represent a contradiction, or are these metrics measuring different aspects of the model?\n",
    "\n",
    "Key Points to Address the Contradiction \n",
    "- R squared measures the proportion of variability in the outcome variable. \n",
    "- P-Values from hypothesis testing asses whether each coefficient is statistically significantly different from 0. \n",
    "- A low R-squared (e.g., 17.6%) means the predictors explain only a small fraction of the variability in the outcome variable. This suggests the model might not capture all important factors influencing 𝑌 Y. Large coefficients with small p-values (e.g., coefficients > 10 and 𝑝 < 0.001 p<0.001) indicate that, while the predictors included are significant in explaining the outcome (holding other variables constant), their combined explanatory power is limited.\n",
    "\n",
    "Ineterpreting the Results of the code below\n",
    "- P-values and Coefficients: Small p-values indicate strong evidence that the predictor has a significant relationship with the outcome variable ( 𝑌 Y) when other predictors are held constant. \n",
    "- Large coefficients suggest the predictors have a substantial effect on Y, but this does not necessarily translate to high explanatory power. \n",
    "- R-squared: A low R-squared implies that much of the variability in Y is unexplained by the model. This does not conflict with significant predictors; it simply indicates the model is not comprehensive."
   ]
  },
  {
   "cell_type": "code",
   "execution_count": 4,
   "id": "e87766e5",
   "metadata": {},
   "outputs": [
    {
     "name": "stdout",
     "output_type": "stream",
     "text": [
      "                            OLS Regression Results                            \n",
      "==============================================================================\n",
      "Dep. Variable:                     HP   R-squared:                       0.176\n",
      "Model:                            OLS   Adj. R-squared:                  0.164\n",
      "Method:                 Least Squares   F-statistic:                     15.27\n",
      "Date:                Fri, 29 Nov 2024   Prob (F-statistic):           3.50e-27\n",
      "Time:                        05:30:22   Log-Likelihood:                -3649.4\n",
      "No. Observations:                 800   AIC:                             7323.\n",
      "Df Residuals:                     788   BIC:                             7379.\n",
      "Df Model:                          11                                         \n",
      "Covariance Type:            nonrobust                                         \n",
      "===================================================================================================\n",
      "                                      coef    std err          t      P>|t|      [0.025      0.975]\n",
      "---------------------------------------------------------------------------------------------------\n",
      "Intercept                          26.8971      5.246      5.127      0.000      16.599      37.195\n",
      "C(Generation)[T.2]                 20.0449      7.821      2.563      0.011       4.692      35.398\n",
      "C(Generation)[T.3]                 21.3662      6.998      3.053      0.002       7.629      35.103\n",
      "C(Generation)[T.4]                 31.9575      8.235      3.881      0.000      15.793      48.122\n",
      "C(Generation)[T.5]                  9.4926      7.883      1.204      0.229      -5.982      24.968\n",
      "C(Generation)[T.6]                 22.2693      8.709      2.557      0.011       5.173      39.366\n",
      "Q('Sp. Def')                        0.5634      0.071      7.906      0.000       0.423       0.703\n",
      "Q('Sp. Def'):C(Generation)[T.2]    -0.2350      0.101     -2.316      0.021      -0.434      -0.036\n",
      "Q('Sp. Def'):C(Generation)[T.3]    -0.3067      0.093     -3.300      0.001      -0.489      -0.124\n",
      "Q('Sp. Def'):C(Generation)[T.4]    -0.3790      0.105     -3.600      0.000      -0.586      -0.172\n",
      "Q('Sp. Def'):C(Generation)[T.5]    -0.0484      0.108     -0.447      0.655      -0.261       0.164\n",
      "Q('Sp. Def'):C(Generation)[T.6]    -0.3083      0.112     -2.756      0.006      -0.528      -0.089\n",
      "==============================================================================\n",
      "Omnibus:                      337.229   Durbin-Watson:                   1.505\n",
      "Prob(Omnibus):                  0.000   Jarque-Bera (JB):             2871.522\n",
      "Skew:                           1.684   Prob(JB):                         0.00\n",
      "Kurtosis:                      11.649   Cond. No.                     1.40e+03\n",
      "==============================================================================\n",
      "\n",
      "Notes:\n",
      "[1] Standard Errors assume that the covariance matrix of the errors is correctly specified.\n",
      "[2] The condition number is large, 1.4e+03. This might indicate that there are\n",
      "strong multicollinearity or other numerical problems.\n"
     ]
    }
   ],
   "source": [
    "import pandas as pd\n",
    "import statsmodels.formula.api as smf\n",
    "\n",
    "# Example dataset\n",
    "url = \"https://raw.githubusercontent.com/KeithGalli/pandas/master/pokemon_data.csv\"\n",
    "pokemon = pd.read_csv(url)\n",
    "\n",
    "# Define the model specification with interaction and categorical encoding\n",
    "model_spec = smf.ols(formula=\"HP ~ Q('Sp. Def') * C(Generation)\", data=pokemon)\n",
    "model_fit = model_spec.fit()\n",
    "\n",
    "# Summarize the results\n",
    "print(model_fit.summary())\n"
   ]
  },
  {
   "cell_type": "markdown",
   "id": "c7a4d907",
   "metadata": {},
   "source": [
    "# Question 5\n",
    "[Chatbot]('https://chatgpt.com/share/6749540a-1f14-8001-aeda-ebb7f1c1ae83')\n",
    "\n",
    "Here are the detailed results and their implications:\n",
    "\n",
    "### **1. Data Splitting and Preparation**\n",
    "- **Training Set**: Contains 50% of the data.\n",
    "- **Testing Set**: Contains the remaining 50% of the data.\n",
    "- **Handling Missing Values**: Replaced missing values in the \"Type 2\" column with \"None\" to ensure the data is clean for model fitting.\n",
    "\n",
    "---\n",
    "\n",
    "### **2. Model 3: Linear Regression with Two Predictors**\n",
    "- **In-sample R-squared**: \n",
    "  - Measures how well the model explains the variability in the training set.\n",
    "  - Indicates a good fit for the data used to train the model.\n",
    "- **Out-of-sample R-squared**:\n",
    "  - Measures how well the model predicts on unseen data.\n",
    "  - If this value drops significantly compared to in-sample R-squared, it suggests overfitting.\n",
    "\n",
    "#### **Insights**:\n",
    "- The performance drop (if any) between in-sample and out-of-sample R-squared illustrates whether the model generalizes well or is too tailored to the training data.\n",
    "\n",
    "---\n",
    "\n",
    "### **3. Model 4: Complex Regression with Multiple Predictors and Interactions**\n",
    "- **In-sample R-squared**: \n",
    "  - Expectedly higher due to the inclusion of more predictors and interaction terms, capturing more variability in the training data.\n",
    "  - A very high value may indicate overfitting, especially if this complexity isn't justified by out-of-sample performance.\n",
    "- **Out-of-sample R-squared**:\n",
    "  - Evaluates how well the complex model predicts on new data.\n",
    "  - A substantial drop relative to in-sample R-squared suggests the model is overfitting.\n",
    "\n",
    "#### **Insights**:\n",
    "- Comparing this model to Model 3 helps determine whether the additional predictors and interactions are genuinely improving predictive performance or merely overfitting.\n",
    "\n",
    "---\n",
    "\n",
    "### **4. General Observations**\n",
    "- **Overfitting Detection**:\n",
    "  - When in-sample R-squared is high but out-of-sample R-squared is low, the model fails to generalize, indicating overfitting.\n",
    "- **Trade-off Between Simplicity and Complexity**:\n",
    "  - Simpler models may generalize better, while overly complex models might fit the training data exceptionally well but perform poorly on new data.\n",
    "\n",
    "---\n",
    "\n",
    "### **Conclusion**\n",
    "- **R-squared Metrics**: The comparison between in-sample and out-of-sample R-squared highlights the model's generalizability.\n",
    "- **Best Practices**:\n",
    "  - Use separate training and testing sets to evaluate model performance.\n",
    "  - Avoid adding excessive complexity without a clear improvement in predictive power.\n",
    "  - Aim for models with balanced performance across in-sample and out-of-sample evaluations to ensure robust generalization.\n",
    "\n"
   ]
  },
  {
   "cell_type": "markdown",
   "id": "64907c20",
   "metadata": {},
   "source": [
    "# Question 6\n",
    "### Explanation of Multicollinearity and Its Impact on Model Generalization\n",
    "\n",
    "#### **1. What is the Design Matrix and How Are Predictor Variables Created?**\n",
    "- The **design matrix** (`model4_spec.exog`) is a matrix representing all predictor variables used in the regression model.\n",
    "- Each column in the design matrix corresponds to a predictor variable or an interaction term derived from the formula in `model4_linear_form`.\n",
    "- For example, the term `Attack * Defense` adds both the original predictors and their interaction (multiplicative combination) to the design matrix.\n",
    "- Similarly, higher-order interactions (e.g., `Attack * Defense * Speed`) increase the number of columns, making the matrix more complex.\n",
    "\n",
    "#### **2. What is Multicollinearity and How Does It Manifest in the Design Matrix?**\n",
    "- **Multicollinearity** occurs when two or more predictor variables in the design matrix are highly correlated.\n",
    "- When examined via `np.corrcoef(model4_spec.exog)`, high correlations indicate redundancy among predictors.\n",
    "- For `model4_fit`, the excessive complexity (due to numerous interaction terms) leads to extreme multicollinearity, where predictors are not independently contributing to the model.\n",
    "\n",
    "#### **3. Why Does Multicollinearity Impact Generalizability?**\n",
    "- **High Multicollinearity Causes Instability**:\n",
    "  - Regression coefficients become unreliable and sensitive to small changes in the data.\n",
    "  - The model struggles to isolate the effect of individual predictors because of their high interdependence.\n",
    "- **Overfitting**:\n",
    "  - Multicollinearity amplifies overfitting, as the model captures noise in the training data rather than genuine patterns.\n",
    "- **Condition Number**:\n",
    "  - A large condition number quantifies the degree of multicollinearity. \n",
    "  - For `model4_fit`, the condition number remains astronomically high (e.g., 12 trillion), even after centering and scaling. This indicates severe multicollinearity, undermining the model's robustness.\n",
    "\n",
    "#### **4. Why Is Generalizability More Uncertain with Multicollinear Predictors?**\n",
    "- **Pairwise vs. Multivariate Correlations**:\n",
    "  - Pairwise correlations only measure relationships between two variables at a time.\n",
    "  - Multicollinearity considers the collective redundancy among all predictors, which is far more problematic in high-dimensional models like `model4_fit`.\n",
    "- **Prediction Uncertainty**:\n",
    "  - High multicollinearity inflates the standard errors of coefficients, leading to weaker significance tests.\n",
    "  - The model may overfit the training data while failing to generalize to the testing set, as seen in the drastic drop in out-of-sample R-squared.\n",
    "\n",
    "#### **5. Centering and Scaling**\n",
    "- **Purpose**: Normalizing the predictors reduces the artificial inflation of multicollinearity.\n",
    "- **Effect**:\n",
    "  - For `model3_fit`, centering and scaling reduce the condition number dramatically (from 343 to 1.66), indicating minimal multicollinearity.\n",
    "  - For `model4_fit`, even after centering and scaling, the condition number remains excessively large (2.25 quadrillion), highlighting the irreparable complexity.\n",
    "\n",
    "---\n",
    "\n",
    "### **Summary**\n",
    "The overfitting of `model4_fit` arises from its excessive complexity, resulting in severe multicollinearity in the design matrix. This makes the model too dependent on noise and idiosyncrasies in the training data. Generalizability fails because:\n",
    "1. High multicollinearity inflates prediction uncertainty.\n",
    "2. The model cannot discern genuine patterns from spurious correlations.\n",
    "3. The excessively large condition number serves as a warning that the model's structure is too complex relative to the dataset's size and information content.\n",
    "\n",
    "### **Key Takeaway**\n",
    "Simpler models, like `model3_fit`, avoid these pitfalls by focusing on parsimonious relationships with enough evidence in the data to generalize well. Overly complex models, especially in the presence of severe multicollinearity, lack the stability and reliability to perform out-of-sample predictions."
   ]
  },
  {
   "cell_type": "markdown",
   "id": "a1d74a08",
   "metadata": {},
   "source": [
    "# Question 7\n",
    "\n",
    "### **1. Model 5: Extending from Model 3 and Model 4**\n",
    "- **Principles**:\n",
    "  - Incrementally adds predictors (`Speed`, `Legendary`, `Type 1`, `Type 2`, `Generation`) to expand on Model 3 while avoiding the excessive complexity of Model 4.\n",
    "  - Balances broad coverage and interpretability without overwhelming interactions.\n",
    "- **Results**:\n",
    "  - Higher **in-sample R-squared** than Model 3 due to more predictors.\n",
    "  - Better **out-of-sample R-squared** than Model 4, reducing overfitting but still limited in generalizability.\n",
    "\n",
    "---\n",
    "\n",
    "### **2. Model 6: Refinement of Model 5**\n",
    "- **Principles**:\n",
    "  - Focuses on statistically significant predictors from Model 5, retaining specific categories of `Type 1` (`Normal`, `Water`) and `Generation` (2, 5).\n",
    "  - Simplifies by removing redundant or non-significant predictors, improving model stability.\n",
    "- **Results**:\n",
    "  - Slightly reduced **in-sample R-squared** due to fewer predictors.\n",
    "  - Noticeably improved **out-of-sample R-squared**, reflecting better generalizability and reduced overfitting.\n",
    "\n",
    "---\n",
    "\n",
    "### **3. Model 7: Advanced Extension from Model 6**\n",
    "- **Principles**:\n",
    "  - Adds selective interactions (`Attack * Speed * Sp. Def * Sp. Atk`) to capture nuanced relationships among key predictors.\n",
    "  - Centers and scales continuous predictors to minimize multicollinearity, reducing the condition number to 15.4, indicating acceptable multicollinearity levels.\n",
    "- **Results**:\n",
    "  - High **in-sample R-squared**, showing strong training performance.\n",
    "  - Comparable **out-of-sample R-squared**, indicating a well-generalized model without overfitting.\n",
    "\n",
    "This progression showcases a balance between complexity and generalizability, with Model 7 achieving optimal predictive performance and stability. Let me know if further refinements are needed!"
   ]
  },
  {
   "cell_type": "code",
   "execution_count": 9,
   "id": "8c42be95",
   "metadata": {},
   "outputs": [
    {
     "ename": "NameError",
     "evalue": "name 'pokeaman' is not defined",
     "output_type": "error",
     "traceback": [
      "\u001b[0;31m---------------------------------------------------------------------------\u001b[0m",
      "\u001b[0;31mNameError\u001b[0m                                 Traceback (most recent call last)",
      "Cell \u001b[0;32mIn[9], line 19\u001b[0m\n\u001b[1;32m     17\u001b[0m \u001b[38;5;66;03m# Perform multiple train-test splits and fit models\u001b[39;00m\n\u001b[1;32m     18\u001b[0m \u001b[38;5;28;01mfor\u001b[39;00m i \u001b[38;5;129;01min\u001b[39;00m \u001b[38;5;28mrange\u001b[39m(reps):\n\u001b[0;32m---> 19\u001b[0m     pokeaman_train, pokeaman_test \u001b[38;5;241m=\u001b[39m train_test_split(\u001b[43mpokeaman\u001b[49m, train_size\u001b[38;5;241m=\u001b[39m\u001b[38;5;241m0.5\u001b[39m)\n\u001b[1;32m     20\u001b[0m     final_model_fit \u001b[38;5;241m=\u001b[39m smf\u001b[38;5;241m.\u001b[39mols(formula\u001b[38;5;241m=\u001b[39mlinear_form, data\u001b[38;5;241m=\u001b[39mpokeaman_train)\u001b[38;5;241m.\u001b[39mfit()\n\u001b[1;32m     21\u001b[0m     in_sample_Rsquared[i] \u001b[38;5;241m=\u001b[39m final_model_fit\u001b[38;5;241m.\u001b[39mrsquared\n",
      "\u001b[0;31mNameError\u001b[0m: name 'pokeaman' is not defined"
     ]
    }
   ],
   "source": [
    "import numpy as np\n",
    "import pandas as pd\n",
    "import plotly.express as px\n",
    "from sklearn.model_selection import train_test_split\n",
    "import statsmodels.formula.api as smf\n",
    "\n",
    "# Linear model to analyze (based on model3_fit)\n",
    "linear_form = 'HP ~ Attack + Defense'\n",
    "\n",
    "# Number of repetitions\n",
    "reps = 100\n",
    "\n",
    "# Arrays to collect R-squared values\n",
    "in_sample_Rsquared = np.zeros(reps)\n",
    "out_of_sample_Rsquared = np.zeros(reps)\n",
    "\n",
    "# Perform multiple train-test splits and fit models\n",
    "for i in range(reps):\n",
    "    pokeaman_train, pokeaman_test = train_test_split(pokeaman, train_size=0.5)\n",
    "    final_model_fit = smf.ols(formula=linear_form, data=pokeaman_train).fit()\n",
    "    in_sample_Rsquared[i] = final_model_fit.rsquared\n",
    "    out_of_sample_Rsquared[i] = np.corrcoef(\n",
    "        pokeaman_test.HP, \n",
    "        final_model_fit.predict(pokeaman_test)\n",
    "    )[0, 1] ** 2\n",
    "\n",
    "# Create a DataFrame for visualization\n",
    "df = pd.DataFrame({\n",
    "    \"In Sample Performance (R-squared)\": in_sample_Rsquared,\n",
    "    \"Out of Sample Performance (R-squared)\": out_of_sample_Rsquared\n",
    "})\n",
    "\n",
    "# Visualize paired R-squared values\n",
    "fig = px.scatter(\n",
    "    df, \n",
    "    x=\"In Sample Performance (R-squared)\", \n",
    "    y=\"Out of Sample Performance (R-squared)\",\n",
    "    title=\"In-Sample vs. Out-of-Sample R-squared\",\n",
    "    labels={\"x\": \"In-Sample R-squared\", \"y\": \"Out-of-Sample R-squared\"}\n",
    ")\n",
    "fig.add_shape(\n",
    "    type=\"line\", \n",
    "    x0=0, x1=1, \n",
    "    y0=0, y1=1, \n",
    "    line=dict(color=\"red\", dash=\"dash\"), \n",
    "    name=\"y=x\"\n",
    ")\n",
    "fig.show()\n"
   ]
  },
  {
   "cell_type": "markdown",
   "id": "527319a1",
   "metadata": {},
   "source": [
    "# Question 8\n",
    "\n",
    "Visualization:\n",
    "\n",
    "The scatterplot compares in-sample and out-of-sample R-squared values across multiple iterations.\n",
    "The diagonal line (y=x) represents perfect parity between in-sample and out-of-sample performance.\n",
    "Key Observations:\n",
    "\n",
    "Points close to the y=x line indicate models that generalize well, with similar in-sample and out-of-sample performance.\n",
    "Points significantly above the line suggest underfitting (poor in-sample performance).\n",
    "Points significantly below the line indicate overfitting (good in-sample performance but poor out-of-sample performance).\n",
    "Variability:\n",
    "\n",
    "The spread of points demonstrates how performance varies with different train-test splits.\n",
    "Large variability suggests instability in the model, often due to overfitting, limited data, or noisy predictors.\n",
    "Purpose:\n",
    "\n",
    "This approach highlights the trade-off between model complexity and generalizability.\n",
    "It provides evidence on whether the model captures meaningful patterns or overfits to specific data splits."
   ]
  },
  {
   "cell_type": "markdown",
   "id": "207df7ec",
   "metadata": {},
   "source": [
    "# Question 9\n",
    "\n",
    "\n",
    "The code provided tests the generalizability of model6_fit and model7_fit in two different scenarios:\n",
    "\n",
    "1. Uses Generation 1 Pokémon data to predict all other generations. (Generation != 1)\n",
    "2. Using Pokémon data from Generation 1-5 to predict Generation 6.\n",
    "\n",
    "The results were as followed:\n",
    "- Model 7 Performance showed better out-of-sample R-squared compared to model6_fit.\n",
    "- Under sequential validation, model7_fit struggles to generalize, especially when predicting Generation 6. The complexity of model7_fit makes it more prone to overfitting.\n",
    "- Model 6 performed more consistently across both scenarios as its more simple structure enables better generalizability, despite lower in-sample performance compared to model7_fit.\n",
    "\n",
    "My interpretation of the codes:\n",
    "- Sequential validation reflects real-world use cases more accurately than random splits. In these scenarios, model7_fit's overfitting tendencies become more evident, while model6_fit proves more reliable.\n",
    "- While model7_fit includes higher-order interaction, these terms capture unimportant results than meaningful relationships.\n",
    "- model6_fit is simpler, leading to lower risk of overfitting and better stability across datasets.\n",
    "\n",
    "In conclusion:\n",
    "- Sequential validation reveals weaknesses in models like model7_fit that might be missed in random train-test splits.\n",
    "- Simpler models are easier to interpret, less prone to overfitting, and often generalize better in real-world settings.\n",
    "- When performance differences are small, prioritize simpler, more interpretable models like model6_fit.\n"
   ]
  }
 ],
 "metadata": {
  "kernelspec": {
   "display_name": "Python 3 (ipykernel)",
   "language": "python",
   "name": "python3"
  },
  "language_info": {
   "codemirror_mode": {
    "name": "ipython",
    "version": 3
   },
   "file_extension": ".py",
   "mimetype": "text/x-python",
   "name": "python",
   "nbconvert_exporter": "python",
   "pygments_lexer": "ipython3",
   "version": "3.11.6"
  }
 },
 "nbformat": 4,
 "nbformat_minor": 5
}

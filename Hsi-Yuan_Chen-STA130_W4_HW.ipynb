{
 "cells": [
  {
   "cell_type": "markdown",
   "id": "8e9b81f0",
   "metadata": {},
   "source": [
    "# Question 1\n",
    "\n",
    "[Chatlog](https://chatgpt.com/share/66fb131b-9ea4-8001-b97c-8bd22a791ae90)\n",
    "\n",
    "My own words: Standard error of the mean refers to the standard deviation of the sampling distribution of the sample mean. It measures the variability of the samle mean estimates if we were to take multipple samples from the same population.Whereas the standard deviation is the spread of individual data points in the original dataset around the mean. It measures how indivdual observations deviate fro the average value. \n",
    "\n",
    "\n",
    "My discussion with chatGPT:\n",
    "\n",
    "Here's a summary of our recent interaction:\n",
    "\n",
    "- You asked about the difference between the **standard error of the mean (SEM)** and the **standard deviation (SD)** of the original data. \n",
    "- **Standard deviation** measures the variability among individual data points in a dataset, while the **standard error of the mean** measures how much the sample mean is expected to fluctuate if we took many samples.\n",
    "- SEM provides an idea of the **precision** of the sample mean as an estimate of the population mean, while SD captures the **spread** of the data points themselves.\n",
    "- I explained how to calculate both the SD and SEM in Python. For the **SD**, you can directly use `np.std()` on the original data. For the **SEM**, you can either use the formula \\(\\frac{SD}{\\sqrt{n}}\\), or calculate it by bootstrapping sample means and using the standard deviation of those means.\n"
   ]
  },
  {
   "cell_type": "markdown",
   "id": "30b6b93e",
   "metadata": {},
   "source": [
    "# Question 2 \n",
    "\n",
    "[Chatlog](https://chatgpt.com/share/66fb131b-9ea4-8001-b97c-8bd22a791ae9)\n",
    "\n",
    "1. First, you calculate the bootstrapped means by resampling your original dataset by a certain number of times (e.g. 1000times) to create a distribution of sample means. \n",
    "\n",
    "2. After obtaining the the distribution of bootstrapped means, the standard error of the boostrapped sample means is calculated. This is done by dividing the standard deviation of the bootstrapped means by the square root of the number of bootstrapped samples. \n",
    "\n",
    "3. Determine the confidence interval. \n",
    "\n",
    "4. Interpet the confidence interval. This step proides you with a range that you can be confident that 95% of the time the true population mean will lie within this range."
   ]
  },
  {
   "cell_type": "markdown",
   "id": "2702f984",
   "metadata": {},
   "source": [
    "# Question 3\n",
    "\n",
    "1. First, sort the bootsrapped means in acending order.\n",
    "2. Calculate the lower bound using the function np.quantile(bootstrapped_means, 0.025) and the upper bound using the function np.quantile(bootstrapped_means, 0.975)\n",
    "\n",
    "3. Costruct the confidence interval using the numerical values found in the lower and upper bound using the method above. \n"
   ]
  },
  {
   "cell_type": "code",
   "execution_count": 15,
   "id": "9e2dc9b4",
   "metadata": {},
   "outputs": [
    {
     "name": "stdout",
     "output_type": "stream",
     "text": [
      "this is the 95% confidence interval for sample mean (54.459, 66.72149999999999)  ,this is the 95% confidence interval for sample median (54.5, 71.0)\n"
     ]
    }
   ],
   "source": [
    "# Question 4\n",
    "#[chatlog](https://chatgpt.com/share/66fb1b06-1a04-8001-9001-1a29d19ec29f)\n",
    "\n",
    "#First, I generated a dataset using chatGPT. \n",
    "\n",
    "import numpy as np\n",
    "# Generate a dataset of 50 random numbers from 0 to 100\n",
    "data = np.random.randint(0, 101, size=50)\n",
    "\n",
    "# Set up bootstrap function for mean\n",
    "def bootstrap_mean_confidence_interval(data, num_bootstrap_samples=1000, ci_level=0.95):\n",
    "   \n",
    "    bootstrapped_means = []\n",
    "\n",
    "    # Perform bootstrap resampling\n",
    "    for _ in range(num_bootstrap_samples):\n",
    "        resample = np.random.choice(data, size=len(data), replace=True)\n",
    "        bootstrapped_means.append(np.mean(resample))\n",
    "\n",
    "    # Calculate the percentiles for the confidence interval\n",
    "    lower_bound = np.percentile(bootstrapped_means, (1 - ci_level) / 2 * 100)\n",
    "    upper_bound = np.percentile(bootstrapped_means, (1 + ci_level) / 2 * 100)\n",
    "\n",
    "    return lower_bound, upper_bound\n",
    "\n",
    "# Apply the bootstrap function to the dataset for mean\n",
    "ci_mean = bootstrap_mean_confidence_interval(data)\n",
    "\n",
    "# Demonstrate how to change the code for the median\n",
    "def bootstrap_median_confidence_interval(data, num_bootstrap_samples=1000, ci_level=0.95):\n",
    "    \n",
    "    bootstrapped_medians = []\n",
    "\n",
    "    # Perform bootstrap resampling\n",
    "    for _ in range(num_bootstrap_samples):\n",
    "        resample = np.random.choice(data, size=len(data), replace=True)\n",
    "        bootstrapped_medians.append(np.median(resample))\n",
    "\n",
    "    # Calculate the percentiles for the confidence interval\n",
    "    lower_bound = np.percentile(bootstrapped_medians, (1 - ci_level) / 2 * 100)\n",
    "    upper_bound = np.percentile(bootstrapped_medians, (1 + ci_level) / 2 * 100)\n",
    "\n",
    "    return lower_bound, upper_bound\n",
    "\n",
    "# Apply the bootstrap function to the dataset for median\n",
    "ci_median = bootstrap_median_confidence_interval(data)\n",
    "\n",
    "# Print the results\n",
    "print(\"this is the 95% confidence interval for sample mean\", ci_mean, \" ,this is the 95% confidence interval for sample median\", ci_median)\n",
    "\n"
   ]
  },
  {
   "cell_type": "markdown",
   "id": "0c55b942",
   "metadata": {},
   "source": [
    "# Question 5 \n",
    "\n",
    "It is important to distinguish between the population parameter and the sample statistics because the population parameter represents the true value we're trying to estimate, but it's typically unknown. Whereas the sample statistic, is a calculated value from our data sample that serves as an estimate of the population parameter. The confidence interval provide a range of values within which we believe the true population parameter lies."
   ]
  },
  {
   "cell_type": "markdown",
   "id": "753eab62",
   "metadata": {},
   "source": [
    "# Question 6\n",
    "\n",
    "\n",
    "1. First, start with an original sample of data from the population. Next, randomly select observations from the sample, allowing data points to repeat. Create bootstrap samples of the same size as the original sample. Following this, compute the desired statistics value (mean, median) for each bootstrap sample. Repeat the process a lot of times to generate a distribution of the sample statistic.Lastly, the confidence interval can be calulated. For a 95% confidence interval, the 2.5th and 97.5 percentiles are used as lower and upper bounds. \n",
    "\n",
    "2. Bootstrapping is a statistical resampling method used to estimate the distribution of a sampple statistic and create confidence intervals without making strict assumptions about the underlying population. Bootstrapping ca be used to estimate confidence intervals, assess varaibility and uncertainity, and can perform hypothesis testing.\n",
    "\n",
    "3. Lets assume the hyoothesized guess about the average of the population is x. I have a sample size of n from the population, I would randomly select n points from the sample, allowing data points to repeat. Next, I would create bootstrap sample that has the size of n. I would compute the mean and record it. Then repeat the process many times (e.g. 1000 times) until a distribution is formed. I would then calculate the 95% confidence interval. Lastly, I would see if the hypothesized mean lies within the confidence interval of the boostrap distribution. If it falls within the interval, my guess is plausible, if it falls outside, it is less plausible. "
   ]
  },
  {
   "cell_type": "markdown",
   "id": "33fe1ee3",
   "metadata": {},
   "source": [
    "# Question 7 \n",
    "\n",
    "Lets first clarify the null hypothesis known as HO. The null hypothesis in this scenario is the drug having no effect. Failing to reject it esentially means agreeing that they are times where the drug indeed has no effect on the patient. This is because the confidence interval includes 0, which 0 representing no effect, that means that since 0 is a plausible value, you cannot reject the null hypothesis as it is possible that the drug truly has no effects. \n",
    "\n",
    "Likewise, to reject the null hypothesis, the confidence interval must not include zero. This would indicate that zero is not a plausible value for the population, meaning that the data indicates that the drug has a real effect. In this case, you would reject the null hypothesis, hence suggesting the drug has an effect. "
   ]
  },
  {
   "cell_type": "code",
   "execution_count": 23,
   "id": "b624dfbb",
   "metadata": {},
   "outputs": [
    {
     "data": {
      "image/png": "[encoded data removed]",
      "text/plain": [
       "<Figure size 640x480 with 1 Axes>"
      ]
     },
     "metadata": {},
     "output_type": "display_data"
    },
    {
     "name": "stdout",
     "output_type": "stream",
     "text": [
      "95% Confidence Interval for the difference in health scores: (0.7, 5.5)\n"
     ]
    }
   ],
   "source": [
    "#Question 8: Visual Presentation \n",
    "#[chatlog](https://chatgpt.com/share/66fb1b06-1a04-8001-9001-1a29d19ec29f)\n",
    "import numpy as np\n",
    "import pandas as pd\n",
    "import matplotlib.pyplot as plt\n",
    "\n",
    "# Recreating the DataFrame as it was lost due to environment reset\n",
    "import pandas as pd\n",
    "\n",
    "# Creating the vaccine data as described\n",
    "data = {\n",
    "    \"PatientID\": [1, 2, 3, 4, 5, 6, 7, 8, 9, 10],\n",
    "    \"Age\": [45, 34, 29, 52, 37, 41, 33, 48, 26, 39],\n",
    "    \"Gender\": [\"M\", \"F\", \"M\", \"F\", \"M\", \"F\", \"M\", \"F\", \"M\", \"F\"],\n",
    "    \"InitialHealthScore\": [84, 78, 83, 81, 81, 80, 79, 85, 76, 83],\n",
    "    \"FinalHealthScore\": [86, 86, 80, 86, 84, 86, 86, 82, 83, 84]\n",
    "}\n",
    "\n",
    "# Convert the data to a pandas DataFrame\n",
    "df = pd.DataFrame(data)\n",
    "\n",
    "# Saving the data to a CSV file for reproducibility\n",
    "# Saving the data to a CSV file in the current directory\n",
    "df.to_csv('vaccine_data.csv', index=False)\n",
    "\n",
    "\n",
    "# Set the random seed for reproducibility\n",
    "np.random.seed(42)\n",
    "\n",
    "# Read the CSV file\n",
    "df = pd.read_csv('vaccine_data.csv')\n",
    "\n",
    "# Visualize the data with a scatter plot comparing Initial and Final Health Scores\n",
    "plt.scatter(df['InitialHealthScore'], df['FinalHealthScore'], color='orange')\n",
    "plt.title('Initial vs. Final Health Scores')\n",
    "plt.xlabel('Initial Health Score')\n",
    "plt.ylabel('Final Health Score')\n",
    "plt.grid(True)\n",
    "plt.show()\n",
    "\n",
    "# Compute the difference between Initial and Final Health Scores\n",
    "df['ScoreDifference'] = df['FinalHealthScore'] - df['InitialHealthScore']\n",
    "\n",
    "# Quantitative analysis: Bootstrapping to evaluate the effect of the vaccine\n",
    "def bootstrap_mean_confidence_interval(data, num_bootstrap_samples=1000, ci_level=0.95):\n",
    "    \"\"\"Bootstrap confidence interval for the mean.\"\"\"\n",
    "    bootstrapped_means = []\n",
    "    for _ in range(num_bootstrap_samples):\n",
    "        resample = np.random.choice(data, size=len(data), replace=True)\n",
    "        bootstrapped_means.append(np.mean(resample))\n",
    "    \n",
    "    lower_bound = np.percentile(bootstrapped_means, (1 - ci_level) / 2 * 100)\n",
    "    upper_bound = np.percentile(bootstrapped_means, (1 + ci_level) / 2 * 100)\n",
    "    \n",
    "    return lower_bound, upper_bound\n",
    "\n",
    "# Apply the bootstrapping method on the difference in health scores\n",
    "ci = bootstrap_mean_confidence_interval(df['ScoreDifference'])\n",
    "\n",
    "# Print the confidence interval for the difference in health scores\n",
    "print(f\"95% Confidence Interval for the difference in health scores: {ci}\")\n"
   ]
  },
  {
   "cell_type": "markdown",
   "id": "778fc673",
   "metadata": {},
   "source": [
    "# Question 8 \n",
    "Quantitative Analysis\n",
    "Bootstrapping: We used bootstrapping to create a confidence interval for the mean difference between initial and final health scores. By resampling the data and computing the mean score difference over 1000 iterations, we generated a bootstrap distribution of the mean difference.\n",
    "\n",
    "Confidence Interval: The 95% confidence interval for the mean difference in health scores is approximately (0.7, 5.5). This means that, based on this data, we are 95% confident that the true mean improvement in health scores lies between 0.7 and 5.5 points.\n",
    "\n",
    "Conclusion\n",
    "Based on the data and bootstrapping analysis, we reject the null hypothesis of \"no effect.\" The vaccine appears to have a positive impact on the health scores of the patients in this sample."
   ]
  },
  {
   "cell_type": "markdown",
   "id": "6f2710d8",
   "metadata": {},
   "source": [
    "# Question 9\n",
    "\n",
    "Yes I have indeed reviewed the course textbook. I find the instructions quiet confusing at first but figured out how to solve it when looking at Piazza."
   ]
  }
 ],
 "metadata": {
  "kernelspec": {
   "display_name": "Python 3 (ipykernel)",
   "language": "python",
   "name": "python3"
  },
  "language_info": {
   "codemirror_mode": {
    "name": "ipython",
    "version": 3
   },
   "file_extension": ".py",
   "mimetype": "text/x-python",
   "name": "python",
   "nbconvert_exporter": "python",
   "pygments_lexer": "ipython3",
   "version": "3.11.6"
  }
 },
 "nbformat": 4,
 "nbformat_minor": 5
}

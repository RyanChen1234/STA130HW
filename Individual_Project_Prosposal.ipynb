{
 "cells": [
  {
   "cell_type": "markdown",
   "id": "7afabbf7",
   "metadata": {},
   "source": [
    "# Individual Project Proposal 1\n",
    "\n",
    "\n",
    "Research Question: Investigating effects of perceived prioritization of social media impact loneliness score.\n",
    "\n",
    "Independent Variable: Participants who wish to adjust their social media usage, either too much or too little. More specifically, we use data from:\n",
    "- LIFESTYLE_time_use_balance_media: Whether the interviewees feel like they spend too little/time on social media. I would suggest visualizing this using a bar chart since the variable is categorical, using this would be an effective way to show the distribution of participants who spend too much/little or the right amount of time on social media.\n",
    "- LIFESTYLE_time_use_priorities_socials_actual: Interviewees prioritize social media over other daily activities. Assuming this variable is continuous, it can be visualized using a histogram, by doing so, it could show the distribution of social media prioritization among participants.\n",
    "- LIFESTYLE_time_use_priorities_socials_desired: How much the interviewees wish to prioritize social media in their routine. This can be visualized using a scatterplot by comparing the actual vs desired prioritization. It allows me to see the discrepancies between the actual and desired prioritization levels.\n",
    "\n",
    "Dependent Variable: Perceived Loneliness Score. More specifically:\n",
    "- LONELY_ucla_loneliness_scale_companionship: Measures the feeling of interviewees of having companions, assesses whether they have close and supportive relationships. This can be visualized using a box plot, which compares companionship score across categories. This visualization could highlight possible relationships between over/under users of social media leading to low companion scores.\n",
    "- LONELY_ucla_loneliness_scale_left_out: Interviewees' perceived feeling of being left out. This can be visualized using a histogram. By doing so, it could show the distribution of people who feel left out within each category. Hence, by doing so would allow for a comparison of balance/imbalance social media time relationship and the feeling of being left out.\n",
    "- LONELY_ucla_loneliness_scale_isolated: It measures the extent to which participants feel left out. This can be visualized using a box plot. As it would show the participants who prioritize social media would feel more or less isolated.\n",
    "Hypothesis:\n",
    "\n",
    "- Null Hypothesis (H0): There is no significant difference in loneliness scores between participants with an imbalanced social media usage time and those with a balanced social media time.\n",
    "- Alternative Hypothesis (H1): Those who spend an imbalanced amount of time on social media will report higher loneliness scores than those with a balanced social media usage time.\n",
    "\n",
    "Analysis:\n",
    "A t-test can be conducted to assess whether the mean loneliness score differs significantly between these two groups. By using the t-test, it assumes that loneliness scores are normally distributed and there is homogeneity of variances. A significant result (p-value < 0.05) would mean there is\n",
    "\n",
    "\n",
    "Relevance:\n",
    "Findings would contribute to discussions on the effects of digital vs in person interaction on mental health, potentially informing social media usage recommendations to enhance mental well-being and social connections. To elaborate, this project provides insights on how social media use may affect social connection and personal well-being, and aim to identify important factors within CSCS data.\n",
    "\n",
    "\n",
    "\n",
    "\n",
    "\n"
   ]
  },
  {
   "cell_type": "markdown",
   "id": "999c8260",
   "metadata": {},
   "source": [
    "# Individal Project Proposal #2\n",
    "\n",
    "Research Question: Investigating the relationship between discrepancies in desired versus actual social media prioritization and loneliness scores.\n",
    "\n",
    "Independent Variable: Discrepancy between Actual and Desired Social Media Prioritization\n",
    "\n",
    "- LIFESTYLE_time_use_priorities_socials_actual: Interviewees prioritize social media over other daily activities. Assuming this variable is continuous, it can be visualized using a histogram, by doing so, it could show the distribution of social media prioritization among participants.\n",
    "- LIFESTYLE_time_use_priorities_socials_desired: How much the interviewees wish to prioritize social media in their routine. This can be visualized using a scatterplot by comparing the actual vs desired prioritization. It allows me to see the discrepancies between the actual and desired prioritization levels.\n",
    "Visualization for Discrepancy: I will use a scatter plot, comparing LIFESTYLE_time_use_priorities_socials_actual and LIFESTYLE_time_use_priorities_socials_desired. Points deviating from the diagonal (where actual equals desired) will indicate discrepancies. This visualization allows us to see the extent of the discrepancy and identify trends between actual and desired prioritization.\n",
    "\n",
    "Dependent Variable: Perceived Loneliness Score\n",
    "- LONELY_ucla_loneliness_scale_companionship: Measures the feeling of interviewees of having companions, assesses whether they have close, supportive relationships. This can be visualized using a box plot, which compares companionship score across categories. This visualization could highlight possible relationships between over/under users of social media leading to low companion scores.\n",
    "- LONELY_ucla_loneliness_scale_left_out: Interviewees' perceived feeling of being left out. This can be visualized using a histogram. By doing so, it could show the distribution of people who feel left out within each category. Hence, by doing so would allow for a comparison of balance/imbalance social media time relationship and the feeling of being left out.\n",
    "- LONELY_ucla_loneliness_scale_isolated: It measures the extent to which participants feel left out. This can be visualized using a box plot to show isolation scores across support categories, helping to identify if support levels are linked to feelings of isolation.\n",
    "Hypothesis:\n",
    "\n",
    "- Null Hypothesis (H0): There is no significant relationship between the discrepancy in actual versus desired social media prioritization and loneliness scores.\n",
    "- Alternative Hypothesis (H1): Participants with a greater discrepancy between actual and desired social media prioritization will report higher loneliness scores than those with minimal discrepancy.\n",
    "\n",
    "Analysis:\n",
    "Conduct a correlation analysis to examine the relationship between the discrepancy variable (absolute difference between actual and desired prioritization) and loneliness scores (companionship, left-out, isolation). This will show whether a linear relationship exists, with greater discrepancies potentially associated with higher loneliness. T-test: Based on discrepancy levels (low, moderate, high), perform independent samples t-test to see if there are significant differences in loneliness scores across these categories.\n",
    "Interpretation: A significant correlation result would suggest a relationship between discrepancy in social media prioritization and loneliness, supporting the alternative hypothesis. A p-value < 0.05 would provide sufficient evidence to reject the null hypothesis.\n",
    "\n",
    "Relevance: The findings could provide insights into how discrepancies between actual and desired social media usage impact feelings of loneliness. This is relevant to understanding the emotional effects of unmet expectations in digital engagement, potentially contributing to mental health recommendations. By identifying whether and how discrepancies in prioritization affect loneliness, the study could guide social media usage recommendations aimed at balancing online and offline connections, ultimately supporting better social and mental well-being. This aligns with the course project’s objective of exploring factors within CSCS data that influence personal health and well-being.\n",
    "\n"
   ]
  },
  {
   "cell_type": "markdown",
   "id": "166bad72",
   "metadata": {},
   "source": [
    "# Individal Project Proposal #3\n",
    "\n",
    "Research Question: Investigating the impact of self-reported social support levels on loneliness scores.\n",
    "\n",
    "Independent Variable: Self-reported levels of social support. Specifically, we will use data from:\n",
    "- SUPPORT_family_support: Measures the level of support participants feel from family members. Visualized using a bar chart, as it is likely a categorical variable (e.g., \"Low,\" \"Moderate,\" \"High\"). This will show the distribution of perceived family support among participants.\n",
    "- SUPPORT_friend_support: Assesses the support participants feel from friends. If continuous, a histogram can display the distribution of friend support levels, allowing us to observe general trends and concentration of support levels.\n",
    "- SUPPORT_community_support: Captures participants' perception of community support. A bar chart would work here if this variable is categorical, helping to illustrate the breakdown of community support levels across the sample.\n",
    "\n",
    "Dependent Variable: Perceived Loneliness Score. More specifically:\n",
    "- LONELY_ucla_loneliness_scale_companionship: Measures feelings of companionship, showing whether participants feel they have close, supportive relationships. A box plot can be used to compare companionship scores across social support levels, highlighting potential relationships between support sources and companionship.\n",
    "- LONELY_ucla_loneliness_scale_left_out: Indicates participants' feelings of being left out. This can be visualized with a histogram to show the distribution of \"left out\" scores across different levels of social support, enabling comparisons of social support against feelings of exclusion.\n",
    "- LONELY_ucla_loneliness_scale_isolated: Measures participants’ sense of isolation. This can be visualized using a box plot to show isolation scores across support categories, helping to identify if support levels are linked to feelings of isolation.\n",
    "\n",
    "Hypothesis:\n",
    "- Null Hypothesis (H0): There is no significant difference in loneliness scores across different levels of self-reported social support.\n",
    "- Alternative Hypothesis (H1): Participants who report higher levels of social support will have lower loneliness scores compared to those who report lower levels of social support.\n",
    "\n",
    "Analysis: Independent Samples t-test:\n",
    "Create two groups, low and high support. Low Support: Participants who report low levels of support from family, friends, or community. High Support: Participants who report high levels of support from these sources.\n",
    "Assumptions: This test assumes that loneliness scores are approximately normally distributed within each support group and that there is similarity of variances.\n",
    "Interpretation: A significant t-test result (p-value < 0.05) would indicate a statistically significant difference in loneliness scores between participants with low and high social support levels. This would provide evidence that social support levels may influence loneliness, supporting the alternative hypothesis.\n",
    "\n",
    "Relevance: The results would provide valuable insights into how different types of social support (family, friends, community) influence feelings of loneliness. This can inform mental health initiatives by emphasizing the role of support systems in reducing loneliness. Specifically, it aligns with the course project goal of using CSCS data to understand factors that contribute to well-being, offering evidence that may guide recommendations for enhancing social support as a protective factor against loneliness."
   ]
  }
 ],
 "metadata": {
  "kernelspec": {
   "display_name": "Python 3 (ipykernel)",
   "language": "python",
   "name": "python3"
  },
  "language_info": {
   "codemirror_mode": {
    "name": "ipython",
    "version": 3
   },
   "file_extension": ".py",
   "mimetype": "text/x-python",
   "name": "python",
   "nbconvert_exporter": "python",
   "pygments_lexer": "ipython3",
   "version": "3.11.6"
  }
 },
 "nbformat": 4,
 "nbformat_minor": 5
}

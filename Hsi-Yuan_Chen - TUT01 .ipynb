{
 "cells": [
  {
   "cell_type": "markdown",
   "id": "0bd36c74",
   "metadata": {},
   "source": [
    "\n",
    "# Question 2 for TUT01\n",
    "\n",
    "### Summary of Interaction\n",
    "\n",
    "In our interaction, you requested assistance in finding an interesting dataset with missing values available online. I provided you with the Titanic dataset, which is well-known for its mix of categorical and numerical data, and includes missing values. You then asked for help loading the dataset into a Jupyter notebook using pandas and obtaining the missing data counts. I provided you with the necessary code to achieve this.\n",
    "\n",
    "### Final Working Version of the Code\n",
    "\n",
    "Here is the final version of the code to load the Titanic dataset and get the missing data counts:\n",
    "\n",
    "```python\n",
    "import pandas as pd\n",
    "\n",
    "# Load the dataset\n",
    "url = \"https://raw.githubusercontent.com/mwaskom/seaborn-data/master/titanic.csv\"\n",
    "df = pd.read_csv(url)\n",
    "\n",
    "# Get the count of missing values for each column\n",
    "missing_data_counts = df.isnull().sum()\n",
    "\n",
    "print(missing_data_counts)\n",
    "```\n",
    "\n",
    "This code will load the Titanic dataset from the provided URL and print out the number of missing values in each column. Yes, the Titanic dataset does have missing values. Specifically, it includes missing values in columns such as Age and Embarked12. The code you have will correctly identify and count these missing values for each column.\n",
    "\n",
    "\n",
    "\n",
    "If you need any further assistance or have additional questions, feel free to ask! Good luck with your assignment!# "
   ]
  },
  {
   "cell_type": "markdown",
   "id": "8514f73d",
   "metadata": {},
   "source": [
    "# Question 3\n",
    "\n",
    "\n",
    "# Demonstration of saving notebook on github \n",
    "[Notebook Link](url:https://github.com/RyanChen1234/STA130HW/blob/482871f2f0bf965ad17a9051a46a1ceb08076860/Hsi-Yuan_Chen-STA130_W1_HW.ipynb)\n",
    "\n",
    "# Saving chatbot logs\n",
    "[Chatbog logs](url:https://chatgpt.com/share/66ef2978-9648-8001-b480-965e70efc4cf)\n",
    "\n",
    "# Summarize Chatbot interactions \n",
    "\n",
    "Here’s a summary of our interaction that you can use for your homework:\n",
    "\n",
    "In our conversation, I asked about the history of the Toronto Raptors, my favorite basketball team. I learned that the Raptors were established in 1995 as part of the NBA's expansion into Canada, alongside the Vancouver Grizzlies. The team's early years were marked by struggles, but with the arrival of Vince Carter in 1998, the Raptors gained national and international attention. Carter led the team to its first playoff appearances, and his performance in the 2000 Slam Dunk Contest became legendary. The Raptors later won their first NBA Championship in 2019, becoming the first non-American team to win an NBA title.\n",
    "\n",
    "I also shared that Vince Carter is my favorite basketball player, and I learned about his impactful 22-year career. Carter was known for his high-flying dunks and earned the nickname \"Vinsanity.\" He played for several teams after leaving the Raptors, including the New Jersey Nets, Dallas Mavericks, and Atlanta Hawks, before retiring in 2020. Despite never winning an NBA championship, Carter’s influence on the game, particularly in popularizing basketball in Canada, and his longevity in the league made him one of the most respected figures in the NBA.\n",
    "\n",
    "This summary includes the key points from our discussion and should fit your homework requirements!"
   ]
  },
  {
   "cell_type": "markdown",
   "id": "2c121469",
   "metadata": {},
   "source": [
    "# Question 2 WW2 Airplane\n",
    "\n",
    "1. I would add armour on the center of the plane first because its where the pilot sits and then wide on the wings on both right and left side so the plane doesn't crash while flying. \n",
    "\n"
   ]
  },
  {
   "cell_type": "markdown",
   "id": "dfae13f4",
   "metadata": {},
   "source": [
    "# Question 3 Monty Hall Problem\n",
    "\n",
    "1. I would originally stay t the same door. But after understanding the problem from doing week 2's homework, I would change doors because the probability of getting a car is 2/3 than 1/3 (staying at the same door). "
   ]
  },
  {
   "cell_type": "markdown",
   "id": "b7067427",
   "metadata": {},
   "source": [
    "# Question 4-3 Survivorship bias\n",
    "\n",
    "Upon using chatGPT, I understand that survivor ship bias is a kind of distorotion that happens when we focus only on successful examples and ignores the ones that didn't make it. \n",
    "Example: During World War II, researchers were trying to decide how to reinforce bomber planes that were getting shot at. They noticed that planes returning from missions had bullet holes mostly in the wings and tails, so they initially thought, 'Let’s reinforce those areas.' But hold on—what about the planes that didn’t make it back? The ones that got shot down? It’s likely that planes hit in more critical areas, like the engine, never made it back at all. So, focusing only on the surviving planes would give a skewed view—this is also survivorship bias."
   ]
  },
  {
   "cell_type": "markdown",
   "id": "47e84384",
   "metadata": {},
   "source": [
    "# Question 4-4 Monty Hall Problem\n",
    "\n",
    "I understand that in the Monty Hall problem switching doors gives you a higher probability of winning. This is because When you first picked a door, you had a 1 in 3 chance of picking the car (33%) and a 2 in 3 chance of picking a goat (67%). If your initial choice was the car (33% chance), Monty will open a door with a goat, and if you switch, you will lose. If your initial choice was a goat (67% chance), Monty will open the other door with a goat, and if you switch, you will win the car. So by switching, you win 2 out of 3 times (67% chance), because most of the time you will have originally picked a goat.\n",
    "\n"
   ]
  },
  {
   "cell_type": "code",
   "execution_count": null,
   "id": "8333dfc6",
   "metadata": {},
   "outputs": [],
   "source": []
  }
 ],
 "metadata": {
  "kernelspec": {
   "display_name": "Python 3 (ipykernel)",
   "language": "python",
   "name": "python3"
  },
  "language_info": {
   "codemirror_mode": {
    "name": "ipython",
    "version": 3
   },
   "file_extension": ".py",
   "mimetype": "text/x-python",
   "name": "python",
   "nbconvert_exporter": "python",
   "pygments_lexer": "ipython3",
   "version": "3.11.6"
  }
 },
 "nbformat": 4,
 "nbformat_minor": 5
}
